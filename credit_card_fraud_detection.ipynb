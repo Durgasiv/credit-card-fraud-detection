{
  "nbformat": 4,
  "nbformat_minor": 0,
  "metadata": {
    "colab": {
      "provenance": [],
      "authorship_tag": "ABX9TyPUYR6ZUPJ3YhvR9TdUbfWu",
      "include_colab_link": true
    },
    "kernelspec": {
      "name": "python3",
      "display_name": "Python 3"
    },
    "language_info": {
      "name": "python"
    }
  },
  "cells": [
    {
      "cell_type": "markdown",
      "metadata": {
        "id": "view-in-github",
        "colab_type": "text"
      },
      "source": [
        "<a href=\"https://colab.research.google.com/github/Durgasiv/credit-card-fraud-detection/blob/main/credit_card_fraud_detection.ipynb\" target=\"_parent\"><img src=\"https://colab.research.google.com/assets/colab-badge.svg\" alt=\"Open In Colab\"/></a>"
      ]
    },
    {
      "cell_type": "code",
      "execution_count": null,
      "metadata": {
        "id": "PMGYvZK_Y8Gl"
      },
      "outputs": [],
      "source": [
        "import numpy as np\n",
        "import pandas as pd\n",
        "import seaborn as sns\n",
        "import matplotlib.pyplot as plt\n",
        "plt.style.use(\"ggplot\")  #using style ggplot"
      ]
    },
    {
      "cell_type": "code",
      "source": [
        "!pip install scikit-learn"
      ],
      "metadata": {
        "colab": {
          "base_uri": "https://localhost:8080/"
        },
        "id": "sEKalAjQKNPB",
        "outputId": "6d353636-d3d9-4bb2-9b4b-843a80ad4125"
      },
      "execution_count": null,
      "outputs": [
        {
          "output_type": "stream",
          "name": "stdout",
          "text": [
            "Requirement already satisfied: scikit-learn in /usr/local/lib/python3.10/dist-packages (1.2.2)\n",
            "Requirement already satisfied: numpy>=1.17.3 in /usr/local/lib/python3.10/dist-packages (from scikit-learn) (1.25.2)\n",
            "Requirement already satisfied: scipy>=1.3.2 in /usr/local/lib/python3.10/dist-packages (from scikit-learn) (1.11.4)\n",
            "Requirement already satisfied: joblib>=1.1.1 in /usr/local/lib/python3.10/dist-packages (from scikit-learn) (1.3.2)\n",
            "Requirement already satisfied: threadpoolctl>=2.0.0 in /usr/local/lib/python3.10/dist-packages (from scikit-learn) (3.3.0)\n"
          ]
        }
      ]
    },
    {
      "cell_type": "code",
      "source": [
        "from sklearn.feature_selection import SelectPercentile"
      ],
      "metadata": {
        "id": "TETsx6aVKVoo"
      },
      "execution_count": null,
      "outputs": []
    },
    {
      "cell_type": "code",
      "source": [
        "df=pd.read_csv(\"/content/creditcard.csv\")"
      ],
      "metadata": {
        "id": "00BljbwEZKjy"
      },
      "execution_count": null,
      "outputs": []
    },
    {
      "cell_type": "code",
      "source": [
        "df.head()"
      ],
      "metadata": {
        "colab": {
          "base_uri": "https://localhost:8080/",
          "height": 255
        },
        "id": "hjegunazZOn6",
        "outputId": "acf3e6c9-220e-4b3c-adbe-9087f4401408"
      },
      "execution_count": null,
      "outputs": [
        {
          "output_type": "execute_result",
          "data": {
            "text/plain": [
              "   Time        V1        V2        V3        V4        V5        V6        V7  \\\n",
              "0     0 -1.359807 -0.072781  2.536347  1.378155 -0.338321  0.462388  0.239599   \n",
              "1     0  1.191857  0.266151  0.166480  0.448154  0.060018 -0.082361 -0.078803   \n",
              "2     1 -1.358354 -1.340163  1.773209  0.379780 -0.503198  1.800499  0.791461   \n",
              "3     1 -0.966272 -0.185226  1.792993 -0.863291 -0.010309  1.247203  0.237609   \n",
              "4     2 -1.158233  0.877737  1.548718  0.403034 -0.407193  0.095921  0.592941   \n",
              "\n",
              "         V8        V9  ...       V21       V22       V23       V24       V25  \\\n",
              "0  0.098698  0.363787  ... -0.018307  0.277838 -0.110474  0.066928  0.128539   \n",
              "1  0.085102 -0.255425  ... -0.225775 -0.638672  0.101288 -0.339846  0.167170   \n",
              "2  0.247676 -1.514654  ...  0.247998  0.771679  0.909412 -0.689281 -0.327642   \n",
              "3  0.377436 -1.387024  ... -0.108300  0.005274 -0.190321 -1.175575  0.647376   \n",
              "4 -0.270533  0.817739  ... -0.009431  0.798278 -0.137458  0.141267 -0.206010   \n",
              "\n",
              "        V26       V27       V28  Amount  Class  \n",
              "0 -0.189115  0.133558 -0.021053  149.62    0.0  \n",
              "1  0.125895 -0.008983  0.014724    2.69    0.0  \n",
              "2 -0.139097 -0.055353 -0.059752  378.66    0.0  \n",
              "3 -0.221929  0.062723  0.061458  123.50    0.0  \n",
              "4  0.502292  0.219422  0.215153   69.99    0.0  \n",
              "\n",
              "[5 rows x 31 columns]"
            ],
            "text/html": [
              "\n",
              "  <div id=\"df-b60eb5b3-bd72-44c4-aebd-4dc67163c0db\" class=\"colab-df-container\">\n",
              "    <div>\n",
              "<style scoped>\n",
              "    .dataframe tbody tr th:only-of-type {\n",
              "        vertical-align: middle;\n",
              "    }\n",
              "\n",
              "    .dataframe tbody tr th {\n",
              "        vertical-align: top;\n",
              "    }\n",
              "\n",
              "    .dataframe thead th {\n",
              "        text-align: right;\n",
              "    }\n",
              "</style>\n",
              "<table border=\"1\" class=\"dataframe\">\n",
              "  <thead>\n",
              "    <tr style=\"text-align: right;\">\n",
              "      <th></th>\n",
              "      <th>Time</th>\n",
              "      <th>V1</th>\n",
              "      <th>V2</th>\n",
              "      <th>V3</th>\n",
              "      <th>V4</th>\n",
              "      <th>V5</th>\n",
              "      <th>V6</th>\n",
              "      <th>V7</th>\n",
              "      <th>V8</th>\n",
              "      <th>V9</th>\n",
              "      <th>...</th>\n",
              "      <th>V21</th>\n",
              "      <th>V22</th>\n",
              "      <th>V23</th>\n",
              "      <th>V24</th>\n",
              "      <th>V25</th>\n",
              "      <th>V26</th>\n",
              "      <th>V27</th>\n",
              "      <th>V28</th>\n",
              "      <th>Amount</th>\n",
              "      <th>Class</th>\n",
              "    </tr>\n",
              "  </thead>\n",
              "  <tbody>\n",
              "    <tr>\n",
              "      <th>0</th>\n",
              "      <td>0</td>\n",
              "      <td>-1.359807</td>\n",
              "      <td>-0.072781</td>\n",
              "      <td>2.536347</td>\n",
              "      <td>1.378155</td>\n",
              "      <td>-0.338321</td>\n",
              "      <td>0.462388</td>\n",
              "      <td>0.239599</td>\n",
              "      <td>0.098698</td>\n",
              "      <td>0.363787</td>\n",
              "      <td>...</td>\n",
              "      <td>-0.018307</td>\n",
              "      <td>0.277838</td>\n",
              "      <td>-0.110474</td>\n",
              "      <td>0.066928</td>\n",
              "      <td>0.128539</td>\n",
              "      <td>-0.189115</td>\n",
              "      <td>0.133558</td>\n",
              "      <td>-0.021053</td>\n",
              "      <td>149.62</td>\n",
              "      <td>0.0</td>\n",
              "    </tr>\n",
              "    <tr>\n",
              "      <th>1</th>\n",
              "      <td>0</td>\n",
              "      <td>1.191857</td>\n",
              "      <td>0.266151</td>\n",
              "      <td>0.166480</td>\n",
              "      <td>0.448154</td>\n",
              "      <td>0.060018</td>\n",
              "      <td>-0.082361</td>\n",
              "      <td>-0.078803</td>\n",
              "      <td>0.085102</td>\n",
              "      <td>-0.255425</td>\n",
              "      <td>...</td>\n",
              "      <td>-0.225775</td>\n",
              "      <td>-0.638672</td>\n",
              "      <td>0.101288</td>\n",
              "      <td>-0.339846</td>\n",
              "      <td>0.167170</td>\n",
              "      <td>0.125895</td>\n",
              "      <td>-0.008983</td>\n",
              "      <td>0.014724</td>\n",
              "      <td>2.69</td>\n",
              "      <td>0.0</td>\n",
              "    </tr>\n",
              "    <tr>\n",
              "      <th>2</th>\n",
              "      <td>1</td>\n",
              "      <td>-1.358354</td>\n",
              "      <td>-1.340163</td>\n",
              "      <td>1.773209</td>\n",
              "      <td>0.379780</td>\n",
              "      <td>-0.503198</td>\n",
              "      <td>1.800499</td>\n",
              "      <td>0.791461</td>\n",
              "      <td>0.247676</td>\n",
              "      <td>-1.514654</td>\n",
              "      <td>...</td>\n",
              "      <td>0.247998</td>\n",
              "      <td>0.771679</td>\n",
              "      <td>0.909412</td>\n",
              "      <td>-0.689281</td>\n",
              "      <td>-0.327642</td>\n",
              "      <td>-0.139097</td>\n",
              "      <td>-0.055353</td>\n",
              "      <td>-0.059752</td>\n",
              "      <td>378.66</td>\n",
              "      <td>0.0</td>\n",
              "    </tr>\n",
              "    <tr>\n",
              "      <th>3</th>\n",
              "      <td>1</td>\n",
              "      <td>-0.966272</td>\n",
              "      <td>-0.185226</td>\n",
              "      <td>1.792993</td>\n",
              "      <td>-0.863291</td>\n",
              "      <td>-0.010309</td>\n",
              "      <td>1.247203</td>\n",
              "      <td>0.237609</td>\n",
              "      <td>0.377436</td>\n",
              "      <td>-1.387024</td>\n",
              "      <td>...</td>\n",
              "      <td>-0.108300</td>\n",
              "      <td>0.005274</td>\n",
              "      <td>-0.190321</td>\n",
              "      <td>-1.175575</td>\n",
              "      <td>0.647376</td>\n",
              "      <td>-0.221929</td>\n",
              "      <td>0.062723</td>\n",
              "      <td>0.061458</td>\n",
              "      <td>123.50</td>\n",
              "      <td>0.0</td>\n",
              "    </tr>\n",
              "    <tr>\n",
              "      <th>4</th>\n",
              "      <td>2</td>\n",
              "      <td>-1.158233</td>\n",
              "      <td>0.877737</td>\n",
              "      <td>1.548718</td>\n",
              "      <td>0.403034</td>\n",
              "      <td>-0.407193</td>\n",
              "      <td>0.095921</td>\n",
              "      <td>0.592941</td>\n",
              "      <td>-0.270533</td>\n",
              "      <td>0.817739</td>\n",
              "      <td>...</td>\n",
              "      <td>-0.009431</td>\n",
              "      <td>0.798278</td>\n",
              "      <td>-0.137458</td>\n",
              "      <td>0.141267</td>\n",
              "      <td>-0.206010</td>\n",
              "      <td>0.502292</td>\n",
              "      <td>0.219422</td>\n",
              "      <td>0.215153</td>\n",
              "      <td>69.99</td>\n",
              "      <td>0.0</td>\n",
              "    </tr>\n",
              "  </tbody>\n",
              "</table>\n",
              "<p>5 rows × 31 columns</p>\n",
              "</div>\n",
              "    <div class=\"colab-df-buttons\">\n",
              "\n",
              "  <div class=\"colab-df-container\">\n",
              "    <button class=\"colab-df-convert\" onclick=\"convertToInteractive('df-b60eb5b3-bd72-44c4-aebd-4dc67163c0db')\"\n",
              "            title=\"Convert this dataframe to an interactive table.\"\n",
              "            style=\"display:none;\">\n",
              "\n",
              "  <svg xmlns=\"http://www.w3.org/2000/svg\" height=\"24px\" viewBox=\"0 -960 960 960\">\n",
              "    <path d=\"M120-120v-720h720v720H120Zm60-500h600v-160H180v160Zm220 220h160v-160H400v160Zm0 220h160v-160H400v160ZM180-400h160v-160H180v160Zm440 0h160v-160H620v160ZM180-180h160v-160H180v160Zm440 0h160v-160H620v160Z\"/>\n",
              "  </svg>\n",
              "    </button>\n",
              "\n",
              "  <style>\n",
              "    .colab-df-container {\n",
              "      display:flex;\n",
              "      gap: 12px;\n",
              "    }\n",
              "\n",
              "    .colab-df-convert {\n",
              "      background-color: #E8F0FE;\n",
              "      border: none;\n",
              "      border-radius: 50%;\n",
              "      cursor: pointer;\n",
              "      display: none;\n",
              "      fill: #1967D2;\n",
              "      height: 32px;\n",
              "      padding: 0 0 0 0;\n",
              "      width: 32px;\n",
              "    }\n",
              "\n",
              "    .colab-df-convert:hover {\n",
              "      background-color: #E2EBFA;\n",
              "      box-shadow: 0px 1px 2px rgba(60, 64, 67, 0.3), 0px 1px 3px 1px rgba(60, 64, 67, 0.15);\n",
              "      fill: #174EA6;\n",
              "    }\n",
              "\n",
              "    .colab-df-buttons div {\n",
              "      margin-bottom: 4px;\n",
              "    }\n",
              "\n",
              "    [theme=dark] .colab-df-convert {\n",
              "      background-color: #3B4455;\n",
              "      fill: #D2E3FC;\n",
              "    }\n",
              "\n",
              "    [theme=dark] .colab-df-convert:hover {\n",
              "      background-color: #434B5C;\n",
              "      box-shadow: 0px 1px 3px 1px rgba(0, 0, 0, 0.15);\n",
              "      filter: drop-shadow(0px 1px 2px rgba(0, 0, 0, 0.3));\n",
              "      fill: #FFFFFF;\n",
              "    }\n",
              "  </style>\n",
              "\n",
              "    <script>\n",
              "      const buttonEl =\n",
              "        document.querySelector('#df-b60eb5b3-bd72-44c4-aebd-4dc67163c0db button.colab-df-convert');\n",
              "      buttonEl.style.display =\n",
              "        google.colab.kernel.accessAllowed ? 'block' : 'none';\n",
              "\n",
              "      async function convertToInteractive(key) {\n",
              "        const element = document.querySelector('#df-b60eb5b3-bd72-44c4-aebd-4dc67163c0db');\n",
              "        const dataTable =\n",
              "          await google.colab.kernel.invokeFunction('convertToInteractive',\n",
              "                                                    [key], {});\n",
              "        if (!dataTable) return;\n",
              "\n",
              "        const docLinkHtml = 'Like what you see? Visit the ' +\n",
              "          '<a target=\"_blank\" href=https://colab.research.google.com/notebooks/data_table.ipynb>data table notebook</a>'\n",
              "          + ' to learn more about interactive tables.';\n",
              "        element.innerHTML = '';\n",
              "        dataTable['output_type'] = 'display_data';\n",
              "        await google.colab.output.renderOutput(dataTable, element);\n",
              "        const docLink = document.createElement('div');\n",
              "        docLink.innerHTML = docLinkHtml;\n",
              "        element.appendChild(docLink);\n",
              "      }\n",
              "    </script>\n",
              "  </div>\n",
              "\n",
              "\n",
              "<div id=\"df-4becd5af-6abb-4473-a34f-0e0db1265f18\">\n",
              "  <button class=\"colab-df-quickchart\" onclick=\"quickchart('df-4becd5af-6abb-4473-a34f-0e0db1265f18')\"\n",
              "            title=\"Suggest charts\"\n",
              "            style=\"display:none;\">\n",
              "\n",
              "<svg xmlns=\"http://www.w3.org/2000/svg\" height=\"24px\"viewBox=\"0 0 24 24\"\n",
              "     width=\"24px\">\n",
              "    <g>\n",
              "        <path d=\"M19 3H5c-1.1 0-2 .9-2 2v14c0 1.1.9 2 2 2h14c1.1 0 2-.9 2-2V5c0-1.1-.9-2-2-2zM9 17H7v-7h2v7zm4 0h-2V7h2v10zm4 0h-2v-4h2v4z\"/>\n",
              "    </g>\n",
              "</svg>\n",
              "  </button>\n",
              "\n",
              "<style>\n",
              "  .colab-df-quickchart {\n",
              "      --bg-color: #E8F0FE;\n",
              "      --fill-color: #1967D2;\n",
              "      --hover-bg-color: #E2EBFA;\n",
              "      --hover-fill-color: #174EA6;\n",
              "      --disabled-fill-color: #AAA;\n",
              "      --disabled-bg-color: #DDD;\n",
              "  }\n",
              "\n",
              "  [theme=dark] .colab-df-quickchart {\n",
              "      --bg-color: #3B4455;\n",
              "      --fill-color: #D2E3FC;\n",
              "      --hover-bg-color: #434B5C;\n",
              "      --hover-fill-color: #FFFFFF;\n",
              "      --disabled-bg-color: #3B4455;\n",
              "      --disabled-fill-color: #666;\n",
              "  }\n",
              "\n",
              "  .colab-df-quickchart {\n",
              "    background-color: var(--bg-color);\n",
              "    border: none;\n",
              "    border-radius: 50%;\n",
              "    cursor: pointer;\n",
              "    display: none;\n",
              "    fill: var(--fill-color);\n",
              "    height: 32px;\n",
              "    padding: 0;\n",
              "    width: 32px;\n",
              "  }\n",
              "\n",
              "  .colab-df-quickchart:hover {\n",
              "    background-color: var(--hover-bg-color);\n",
              "    box-shadow: 0 1px 2px rgba(60, 64, 67, 0.3), 0 1px 3px 1px rgba(60, 64, 67, 0.15);\n",
              "    fill: var(--button-hover-fill-color);\n",
              "  }\n",
              "\n",
              "  .colab-df-quickchart-complete:disabled,\n",
              "  .colab-df-quickchart-complete:disabled:hover {\n",
              "    background-color: var(--disabled-bg-color);\n",
              "    fill: var(--disabled-fill-color);\n",
              "    box-shadow: none;\n",
              "  }\n",
              "\n",
              "  .colab-df-spinner {\n",
              "    border: 2px solid var(--fill-color);\n",
              "    border-color: transparent;\n",
              "    border-bottom-color: var(--fill-color);\n",
              "    animation:\n",
              "      spin 1s steps(1) infinite;\n",
              "  }\n",
              "\n",
              "  @keyframes spin {\n",
              "    0% {\n",
              "      border-color: transparent;\n",
              "      border-bottom-color: var(--fill-color);\n",
              "      border-left-color: var(--fill-color);\n",
              "    }\n",
              "    20% {\n",
              "      border-color: transparent;\n",
              "      border-left-color: var(--fill-color);\n",
              "      border-top-color: var(--fill-color);\n",
              "    }\n",
              "    30% {\n",
              "      border-color: transparent;\n",
              "      border-left-color: var(--fill-color);\n",
              "      border-top-color: var(--fill-color);\n",
              "      border-right-color: var(--fill-color);\n",
              "    }\n",
              "    40% {\n",
              "      border-color: transparent;\n",
              "      border-right-color: var(--fill-color);\n",
              "      border-top-color: var(--fill-color);\n",
              "    }\n",
              "    60% {\n",
              "      border-color: transparent;\n",
              "      border-right-color: var(--fill-color);\n",
              "    }\n",
              "    80% {\n",
              "      border-color: transparent;\n",
              "      border-right-color: var(--fill-color);\n",
              "      border-bottom-color: var(--fill-color);\n",
              "    }\n",
              "    90% {\n",
              "      border-color: transparent;\n",
              "      border-bottom-color: var(--fill-color);\n",
              "    }\n",
              "  }\n",
              "</style>\n",
              "\n",
              "  <script>\n",
              "    async function quickchart(key) {\n",
              "      const quickchartButtonEl =\n",
              "        document.querySelector('#' + key + ' button');\n",
              "      quickchartButtonEl.disabled = true;  // To prevent multiple clicks.\n",
              "      quickchartButtonEl.classList.add('colab-df-spinner');\n",
              "      try {\n",
              "        const charts = await google.colab.kernel.invokeFunction(\n",
              "            'suggestCharts', [key], {});\n",
              "      } catch (error) {\n",
              "        console.error('Error during call to suggestCharts:', error);\n",
              "      }\n",
              "      quickchartButtonEl.classList.remove('colab-df-spinner');\n",
              "      quickchartButtonEl.classList.add('colab-df-quickchart-complete');\n",
              "    }\n",
              "    (() => {\n",
              "      let quickchartButtonEl =\n",
              "        document.querySelector('#df-4becd5af-6abb-4473-a34f-0e0db1265f18 button');\n",
              "      quickchartButtonEl.style.display =\n",
              "        google.colab.kernel.accessAllowed ? 'block' : 'none';\n",
              "    })();\n",
              "  </script>\n",
              "</div>\n",
              "\n",
              "    </div>\n",
              "  </div>\n"
            ],
            "application/vnd.google.colaboratory.intrinsic+json": {
              "type": "dataframe",
              "variable_name": "df"
            }
          },
          "metadata": {},
          "execution_count": 5
        }
      ]
    },
    {
      "cell_type": "code",
      "source": [
        "df.info()"
      ],
      "metadata": {
        "colab": {
          "base_uri": "https://localhost:8080/"
        },
        "id": "CFOUo7whZRVA",
        "outputId": "908daa01-109a-40f1-8538-5197028ba9fc"
      },
      "execution_count": null,
      "outputs": [
        {
          "output_type": "stream",
          "name": "stdout",
          "text": [
            "<class 'pandas.core.frame.DataFrame'>\n",
            "RangeIndex: 17918 entries, 0 to 17917\n",
            "Data columns (total 31 columns):\n",
            " #   Column  Non-Null Count  Dtype  \n",
            "---  ------  --------------  -----  \n",
            " 0   Time    17918 non-null  int64  \n",
            " 1   V1      17918 non-null  float64\n",
            " 2   V2      17918 non-null  float64\n",
            " 3   V3      17918 non-null  float64\n",
            " 4   V4      17918 non-null  float64\n",
            " 5   V5      17917 non-null  float64\n",
            " 6   V6      17917 non-null  float64\n",
            " 7   V7      17917 non-null  float64\n",
            " 8   V8      17917 non-null  float64\n",
            " 9   V9      17917 non-null  float64\n",
            " 10  V10     17917 non-null  float64\n",
            " 11  V11     17917 non-null  float64\n",
            " 12  V12     17917 non-null  float64\n",
            " 13  V13     17917 non-null  float64\n",
            " 14  V14     17917 non-null  float64\n",
            " 15  V15     17917 non-null  float64\n",
            " 16  V16     17917 non-null  float64\n",
            " 17  V17     17917 non-null  float64\n",
            " 18  V18     17917 non-null  float64\n",
            " 19  V19     17917 non-null  float64\n",
            " 20  V20     17917 non-null  float64\n",
            " 21  V21     17917 non-null  float64\n",
            " 22  V22     17917 non-null  float64\n",
            " 23  V23     17917 non-null  float64\n",
            " 24  V24     17917 non-null  float64\n",
            " 25  V25     17917 non-null  float64\n",
            " 26  V26     17917 non-null  float64\n",
            " 27  V27     17917 non-null  float64\n",
            " 28  V28     17917 non-null  float64\n",
            " 29  Amount  17917 non-null  float64\n",
            " 30  Class   17917 non-null  float64\n",
            "dtypes: float64(30), int64(1)\n",
            "memory usage: 4.2 MB\n"
          ]
        }
      ]
    },
    {
      "cell_type": "code",
      "source": [
        "df.isna().sum()"
      ],
      "metadata": {
        "id": "rtT86BbYZVlg",
        "colab": {
          "base_uri": "https://localhost:8080/"
        },
        "outputId": "dab6b7cd-1ddf-4085-fb54-05d57c902c42"
      },
      "execution_count": null,
      "outputs": [
        {
          "output_type": "execute_result",
          "data": {
            "text/plain": [
              "Time      0\n",
              "V1        0\n",
              "V2        0\n",
              "V3        0\n",
              "V4        0\n",
              "V5        1\n",
              "V6        1\n",
              "V7        1\n",
              "V8        1\n",
              "V9        1\n",
              "V10       1\n",
              "V11       1\n",
              "V12       1\n",
              "V13       1\n",
              "V14       1\n",
              "V15       1\n",
              "V16       1\n",
              "V17       1\n",
              "V18       1\n",
              "V19       1\n",
              "V20       1\n",
              "V21       1\n",
              "V22       1\n",
              "V23       1\n",
              "V24       1\n",
              "V25       1\n",
              "V26       1\n",
              "V27       1\n",
              "V28       1\n",
              "Amount    1\n",
              "Class     1\n",
              "dtype: int64"
            ]
          },
          "metadata": {},
          "execution_count": 7
        }
      ]
    },
    {
      "cell_type": "code",
      "source": [
        "df.describe().round(2)"
      ],
      "metadata": {
        "id": "0eYdNgNLZaA2",
        "colab": {
          "base_uri": "https://localhost:8080/",
          "height": 349
        },
        "outputId": "61923c5b-46b0-4d57-fd6e-bbb9505c997b"
      },
      "execution_count": null,
      "outputs": [
        {
          "output_type": "execute_result",
          "data": {
            "text/plain": [
              "           Time        V1        V2        V3        V4        V5        V6  \\\n",
              "count  17918.00  17918.00  17918.00  17918.00  17918.00  17917.00  17917.00   \n",
              "mean   13905.28     -0.24      0.26      0.78      0.29     -0.15      0.10   \n",
              "std     9867.92      1.89      1.51      1.77      1.48      1.42      1.33   \n",
              "min        0.00    -30.55    -40.98    -31.10     -5.17    -32.09    -23.50   \n",
              "25%     3781.25     -0.96     -0.31      0.34     -0.63     -0.73     -0.65   \n",
              "50%    12347.50     -0.31      0.24      0.92      0.23     -0.19     -0.17   \n",
              "75%    23775.00      1.16      0.88      1.56      1.16      0.35      0.49   \n",
              "max    29031.00      1.96     16.71      4.10     11.93     34.10     21.39   \n",
              "\n",
              "             V7        V8        V9  ...       V21       V22       V23  \\\n",
              "count  17917.00  17917.00  17917.00  ...  17917.00  17917.00  17917.00   \n",
              "mean      -0.15      0.01      0.73  ...     -0.05     -0.15     -0.04   \n",
              "std        1.34      1.32      1.27  ...      0.83      0.63      0.53   \n",
              "min      -26.55    -23.63     -7.18  ...    -11.47     -8.59    -26.75   \n",
              "25%       -0.60     -0.18     -0.10  ...     -0.26     -0.56     -0.17   \n",
              "50%       -0.08      0.02      0.73  ...     -0.12     -0.12     -0.05   \n",
              "75%        0.45      0.27      1.48  ...      0.04      0.25      0.07   \n",
              "max       34.30     20.01     10.39  ...     22.61      4.53     13.88   \n",
              "\n",
              "            V24       V25       V26       V27       V28    Amount     Class  \n",
              "count  17917.00  17917.00  17917.00  17917.00  17917.00  17917.00  17917.00  \n",
              "mean       0.01      0.12      0.04      0.01      0.01     67.50      0.00  \n",
              "std        0.59      0.44      0.54      0.40      0.25    189.18      0.07  \n",
              "min       -2.69     -7.50     -1.34     -8.57     -3.58      0.00      0.00  \n",
              "25%       -0.33     -0.14     -0.35     -0.07     -0.01      5.49      0.00  \n",
              "50%        0.06      0.16     -0.03      0.00      0.02     15.95      0.00  \n",
              "75%        0.40      0.40      0.34      0.10      0.08     56.67      0.00  \n",
              "max        3.70      5.53      3.52      8.25      4.86   7712.43      1.00  \n",
              "\n",
              "[8 rows x 31 columns]"
            ],
            "text/html": [
              "\n",
              "  <div id=\"df-5f53e31c-8995-4370-abcf-cd3f95313414\" class=\"colab-df-container\">\n",
              "    <div>\n",
              "<style scoped>\n",
              "    .dataframe tbody tr th:only-of-type {\n",
              "        vertical-align: middle;\n",
              "    }\n",
              "\n",
              "    .dataframe tbody tr th {\n",
              "        vertical-align: top;\n",
              "    }\n",
              "\n",
              "    .dataframe thead th {\n",
              "        text-align: right;\n",
              "    }\n",
              "</style>\n",
              "<table border=\"1\" class=\"dataframe\">\n",
              "  <thead>\n",
              "    <tr style=\"text-align: right;\">\n",
              "      <th></th>\n",
              "      <th>Time</th>\n",
              "      <th>V1</th>\n",
              "      <th>V2</th>\n",
              "      <th>V3</th>\n",
              "      <th>V4</th>\n",
              "      <th>V5</th>\n",
              "      <th>V6</th>\n",
              "      <th>V7</th>\n",
              "      <th>V8</th>\n",
              "      <th>V9</th>\n",
              "      <th>...</th>\n",
              "      <th>V21</th>\n",
              "      <th>V22</th>\n",
              "      <th>V23</th>\n",
              "      <th>V24</th>\n",
              "      <th>V25</th>\n",
              "      <th>V26</th>\n",
              "      <th>V27</th>\n",
              "      <th>V28</th>\n",
              "      <th>Amount</th>\n",
              "      <th>Class</th>\n",
              "    </tr>\n",
              "  </thead>\n",
              "  <tbody>\n",
              "    <tr>\n",
              "      <th>count</th>\n",
              "      <td>17918.00</td>\n",
              "      <td>17918.00</td>\n",
              "      <td>17918.00</td>\n",
              "      <td>17918.00</td>\n",
              "      <td>17918.00</td>\n",
              "      <td>17917.00</td>\n",
              "      <td>17917.00</td>\n",
              "      <td>17917.00</td>\n",
              "      <td>17917.00</td>\n",
              "      <td>17917.00</td>\n",
              "      <td>...</td>\n",
              "      <td>17917.00</td>\n",
              "      <td>17917.00</td>\n",
              "      <td>17917.00</td>\n",
              "      <td>17917.00</td>\n",
              "      <td>17917.00</td>\n",
              "      <td>17917.00</td>\n",
              "      <td>17917.00</td>\n",
              "      <td>17917.00</td>\n",
              "      <td>17917.00</td>\n",
              "      <td>17917.00</td>\n",
              "    </tr>\n",
              "    <tr>\n",
              "      <th>mean</th>\n",
              "      <td>13905.28</td>\n",
              "      <td>-0.24</td>\n",
              "      <td>0.26</td>\n",
              "      <td>0.78</td>\n",
              "      <td>0.29</td>\n",
              "      <td>-0.15</td>\n",
              "      <td>0.10</td>\n",
              "      <td>-0.15</td>\n",
              "      <td>0.01</td>\n",
              "      <td>0.73</td>\n",
              "      <td>...</td>\n",
              "      <td>-0.05</td>\n",
              "      <td>-0.15</td>\n",
              "      <td>-0.04</td>\n",
              "      <td>0.01</td>\n",
              "      <td>0.12</td>\n",
              "      <td>0.04</td>\n",
              "      <td>0.01</td>\n",
              "      <td>0.01</td>\n",
              "      <td>67.50</td>\n",
              "      <td>0.00</td>\n",
              "    </tr>\n",
              "    <tr>\n",
              "      <th>std</th>\n",
              "      <td>9867.92</td>\n",
              "      <td>1.89</td>\n",
              "      <td>1.51</td>\n",
              "      <td>1.77</td>\n",
              "      <td>1.48</td>\n",
              "      <td>1.42</td>\n",
              "      <td>1.33</td>\n",
              "      <td>1.34</td>\n",
              "      <td>1.32</td>\n",
              "      <td>1.27</td>\n",
              "      <td>...</td>\n",
              "      <td>0.83</td>\n",
              "      <td>0.63</td>\n",
              "      <td>0.53</td>\n",
              "      <td>0.59</td>\n",
              "      <td>0.44</td>\n",
              "      <td>0.54</td>\n",
              "      <td>0.40</td>\n",
              "      <td>0.25</td>\n",
              "      <td>189.18</td>\n",
              "      <td>0.07</td>\n",
              "    </tr>\n",
              "    <tr>\n",
              "      <th>min</th>\n",
              "      <td>0.00</td>\n",
              "      <td>-30.55</td>\n",
              "      <td>-40.98</td>\n",
              "      <td>-31.10</td>\n",
              "      <td>-5.17</td>\n",
              "      <td>-32.09</td>\n",
              "      <td>-23.50</td>\n",
              "      <td>-26.55</td>\n",
              "      <td>-23.63</td>\n",
              "      <td>-7.18</td>\n",
              "      <td>...</td>\n",
              "      <td>-11.47</td>\n",
              "      <td>-8.59</td>\n",
              "      <td>-26.75</td>\n",
              "      <td>-2.69</td>\n",
              "      <td>-7.50</td>\n",
              "      <td>-1.34</td>\n",
              "      <td>-8.57</td>\n",
              "      <td>-3.58</td>\n",
              "      <td>0.00</td>\n",
              "      <td>0.00</td>\n",
              "    </tr>\n",
              "    <tr>\n",
              "      <th>25%</th>\n",
              "      <td>3781.25</td>\n",
              "      <td>-0.96</td>\n",
              "      <td>-0.31</td>\n",
              "      <td>0.34</td>\n",
              "      <td>-0.63</td>\n",
              "      <td>-0.73</td>\n",
              "      <td>-0.65</td>\n",
              "      <td>-0.60</td>\n",
              "      <td>-0.18</td>\n",
              "      <td>-0.10</td>\n",
              "      <td>...</td>\n",
              "      <td>-0.26</td>\n",
              "      <td>-0.56</td>\n",
              "      <td>-0.17</td>\n",
              "      <td>-0.33</td>\n",
              "      <td>-0.14</td>\n",
              "      <td>-0.35</td>\n",
              "      <td>-0.07</td>\n",
              "      <td>-0.01</td>\n",
              "      <td>5.49</td>\n",
              "      <td>0.00</td>\n",
              "    </tr>\n",
              "    <tr>\n",
              "      <th>50%</th>\n",
              "      <td>12347.50</td>\n",
              "      <td>-0.31</td>\n",
              "      <td>0.24</td>\n",
              "      <td>0.92</td>\n",
              "      <td>0.23</td>\n",
              "      <td>-0.19</td>\n",
              "      <td>-0.17</td>\n",
              "      <td>-0.08</td>\n",
              "      <td>0.02</td>\n",
              "      <td>0.73</td>\n",
              "      <td>...</td>\n",
              "      <td>-0.12</td>\n",
              "      <td>-0.12</td>\n",
              "      <td>-0.05</td>\n",
              "      <td>0.06</td>\n",
              "      <td>0.16</td>\n",
              "      <td>-0.03</td>\n",
              "      <td>0.00</td>\n",
              "      <td>0.02</td>\n",
              "      <td>15.95</td>\n",
              "      <td>0.00</td>\n",
              "    </tr>\n",
              "    <tr>\n",
              "      <th>75%</th>\n",
              "      <td>23775.00</td>\n",
              "      <td>1.16</td>\n",
              "      <td>0.88</td>\n",
              "      <td>1.56</td>\n",
              "      <td>1.16</td>\n",
              "      <td>0.35</td>\n",
              "      <td>0.49</td>\n",
              "      <td>0.45</td>\n",
              "      <td>0.27</td>\n",
              "      <td>1.48</td>\n",
              "      <td>...</td>\n",
              "      <td>0.04</td>\n",
              "      <td>0.25</td>\n",
              "      <td>0.07</td>\n",
              "      <td>0.40</td>\n",
              "      <td>0.40</td>\n",
              "      <td>0.34</td>\n",
              "      <td>0.10</td>\n",
              "      <td>0.08</td>\n",
              "      <td>56.67</td>\n",
              "      <td>0.00</td>\n",
              "    </tr>\n",
              "    <tr>\n",
              "      <th>max</th>\n",
              "      <td>29031.00</td>\n",
              "      <td>1.96</td>\n",
              "      <td>16.71</td>\n",
              "      <td>4.10</td>\n",
              "      <td>11.93</td>\n",
              "      <td>34.10</td>\n",
              "      <td>21.39</td>\n",
              "      <td>34.30</td>\n",
              "      <td>20.01</td>\n",
              "      <td>10.39</td>\n",
              "      <td>...</td>\n",
              "      <td>22.61</td>\n",
              "      <td>4.53</td>\n",
              "      <td>13.88</td>\n",
              "      <td>3.70</td>\n",
              "      <td>5.53</td>\n",
              "      <td>3.52</td>\n",
              "      <td>8.25</td>\n",
              "      <td>4.86</td>\n",
              "      <td>7712.43</td>\n",
              "      <td>1.00</td>\n",
              "    </tr>\n",
              "  </tbody>\n",
              "</table>\n",
              "<p>8 rows × 31 columns</p>\n",
              "</div>\n",
              "    <div class=\"colab-df-buttons\">\n",
              "\n",
              "  <div class=\"colab-df-container\">\n",
              "    <button class=\"colab-df-convert\" onclick=\"convertToInteractive('df-5f53e31c-8995-4370-abcf-cd3f95313414')\"\n",
              "            title=\"Convert this dataframe to an interactive table.\"\n",
              "            style=\"display:none;\">\n",
              "\n",
              "  <svg xmlns=\"http://www.w3.org/2000/svg\" height=\"24px\" viewBox=\"0 -960 960 960\">\n",
              "    <path d=\"M120-120v-720h720v720H120Zm60-500h600v-160H180v160Zm220 220h160v-160H400v160Zm0 220h160v-160H400v160ZM180-400h160v-160H180v160Zm440 0h160v-160H620v160ZM180-180h160v-160H180v160Zm440 0h160v-160H620v160Z\"/>\n",
              "  </svg>\n",
              "    </button>\n",
              "\n",
              "  <style>\n",
              "    .colab-df-container {\n",
              "      display:flex;\n",
              "      gap: 12px;\n",
              "    }\n",
              "\n",
              "    .colab-df-convert {\n",
              "      background-color: #E8F0FE;\n",
              "      border: none;\n",
              "      border-radius: 50%;\n",
              "      cursor: pointer;\n",
              "      display: none;\n",
              "      fill: #1967D2;\n",
              "      height: 32px;\n",
              "      padding: 0 0 0 0;\n",
              "      width: 32px;\n",
              "    }\n",
              "\n",
              "    .colab-df-convert:hover {\n",
              "      background-color: #E2EBFA;\n",
              "      box-shadow: 0px 1px 2px rgba(60, 64, 67, 0.3), 0px 1px 3px 1px rgba(60, 64, 67, 0.15);\n",
              "      fill: #174EA6;\n",
              "    }\n",
              "\n",
              "    .colab-df-buttons div {\n",
              "      margin-bottom: 4px;\n",
              "    }\n",
              "\n",
              "    [theme=dark] .colab-df-convert {\n",
              "      background-color: #3B4455;\n",
              "      fill: #D2E3FC;\n",
              "    }\n",
              "\n",
              "    [theme=dark] .colab-df-convert:hover {\n",
              "      background-color: #434B5C;\n",
              "      box-shadow: 0px 1px 3px 1px rgba(0, 0, 0, 0.15);\n",
              "      filter: drop-shadow(0px 1px 2px rgba(0, 0, 0, 0.3));\n",
              "      fill: #FFFFFF;\n",
              "    }\n",
              "  </style>\n",
              "\n",
              "    <script>\n",
              "      const buttonEl =\n",
              "        document.querySelector('#df-5f53e31c-8995-4370-abcf-cd3f95313414 button.colab-df-convert');\n",
              "      buttonEl.style.display =\n",
              "        google.colab.kernel.accessAllowed ? 'block' : 'none';\n",
              "\n",
              "      async function convertToInteractive(key) {\n",
              "        const element = document.querySelector('#df-5f53e31c-8995-4370-abcf-cd3f95313414');\n",
              "        const dataTable =\n",
              "          await google.colab.kernel.invokeFunction('convertToInteractive',\n",
              "                                                    [key], {});\n",
              "        if (!dataTable) return;\n",
              "\n",
              "        const docLinkHtml = 'Like what you see? Visit the ' +\n",
              "          '<a target=\"_blank\" href=https://colab.research.google.com/notebooks/data_table.ipynb>data table notebook</a>'\n",
              "          + ' to learn more about interactive tables.';\n",
              "        element.innerHTML = '';\n",
              "        dataTable['output_type'] = 'display_data';\n",
              "        await google.colab.output.renderOutput(dataTable, element);\n",
              "        const docLink = document.createElement('div');\n",
              "        docLink.innerHTML = docLinkHtml;\n",
              "        element.appendChild(docLink);\n",
              "      }\n",
              "    </script>\n",
              "  </div>\n",
              "\n",
              "\n",
              "<div id=\"df-d5dfef10-a221-42c3-bcf8-feccf8ff1dca\">\n",
              "  <button class=\"colab-df-quickchart\" onclick=\"quickchart('df-d5dfef10-a221-42c3-bcf8-feccf8ff1dca')\"\n",
              "            title=\"Suggest charts\"\n",
              "            style=\"display:none;\">\n",
              "\n",
              "<svg xmlns=\"http://www.w3.org/2000/svg\" height=\"24px\"viewBox=\"0 0 24 24\"\n",
              "     width=\"24px\">\n",
              "    <g>\n",
              "        <path d=\"M19 3H5c-1.1 0-2 .9-2 2v14c0 1.1.9 2 2 2h14c1.1 0 2-.9 2-2V5c0-1.1-.9-2-2-2zM9 17H7v-7h2v7zm4 0h-2V7h2v10zm4 0h-2v-4h2v4z\"/>\n",
              "    </g>\n",
              "</svg>\n",
              "  </button>\n",
              "\n",
              "<style>\n",
              "  .colab-df-quickchart {\n",
              "      --bg-color: #E8F0FE;\n",
              "      --fill-color: #1967D2;\n",
              "      --hover-bg-color: #E2EBFA;\n",
              "      --hover-fill-color: #174EA6;\n",
              "      --disabled-fill-color: #AAA;\n",
              "      --disabled-bg-color: #DDD;\n",
              "  }\n",
              "\n",
              "  [theme=dark] .colab-df-quickchart {\n",
              "      --bg-color: #3B4455;\n",
              "      --fill-color: #D2E3FC;\n",
              "      --hover-bg-color: #434B5C;\n",
              "      --hover-fill-color: #FFFFFF;\n",
              "      --disabled-bg-color: #3B4455;\n",
              "      --disabled-fill-color: #666;\n",
              "  }\n",
              "\n",
              "  .colab-df-quickchart {\n",
              "    background-color: var(--bg-color);\n",
              "    border: none;\n",
              "    border-radius: 50%;\n",
              "    cursor: pointer;\n",
              "    display: none;\n",
              "    fill: var(--fill-color);\n",
              "    height: 32px;\n",
              "    padding: 0;\n",
              "    width: 32px;\n",
              "  }\n",
              "\n",
              "  .colab-df-quickchart:hover {\n",
              "    background-color: var(--hover-bg-color);\n",
              "    box-shadow: 0 1px 2px rgba(60, 64, 67, 0.3), 0 1px 3px 1px rgba(60, 64, 67, 0.15);\n",
              "    fill: var(--button-hover-fill-color);\n",
              "  }\n",
              "\n",
              "  .colab-df-quickchart-complete:disabled,\n",
              "  .colab-df-quickchart-complete:disabled:hover {\n",
              "    background-color: var(--disabled-bg-color);\n",
              "    fill: var(--disabled-fill-color);\n",
              "    box-shadow: none;\n",
              "  }\n",
              "\n",
              "  .colab-df-spinner {\n",
              "    border: 2px solid var(--fill-color);\n",
              "    border-color: transparent;\n",
              "    border-bottom-color: var(--fill-color);\n",
              "    animation:\n",
              "      spin 1s steps(1) infinite;\n",
              "  }\n",
              "\n",
              "  @keyframes spin {\n",
              "    0% {\n",
              "      border-color: transparent;\n",
              "      border-bottom-color: var(--fill-color);\n",
              "      border-left-color: var(--fill-color);\n",
              "    }\n",
              "    20% {\n",
              "      border-color: transparent;\n",
              "      border-left-color: var(--fill-color);\n",
              "      border-top-color: var(--fill-color);\n",
              "    }\n",
              "    30% {\n",
              "      border-color: transparent;\n",
              "      border-left-color: var(--fill-color);\n",
              "      border-top-color: var(--fill-color);\n",
              "      border-right-color: var(--fill-color);\n",
              "    }\n",
              "    40% {\n",
              "      border-color: transparent;\n",
              "      border-right-color: var(--fill-color);\n",
              "      border-top-color: var(--fill-color);\n",
              "    }\n",
              "    60% {\n",
              "      border-color: transparent;\n",
              "      border-right-color: var(--fill-color);\n",
              "    }\n",
              "    80% {\n",
              "      border-color: transparent;\n",
              "      border-right-color: var(--fill-color);\n",
              "      border-bottom-color: var(--fill-color);\n",
              "    }\n",
              "    90% {\n",
              "      border-color: transparent;\n",
              "      border-bottom-color: var(--fill-color);\n",
              "    }\n",
              "  }\n",
              "</style>\n",
              "\n",
              "  <script>\n",
              "    async function quickchart(key) {\n",
              "      const quickchartButtonEl =\n",
              "        document.querySelector('#' + key + ' button');\n",
              "      quickchartButtonEl.disabled = true;  // To prevent multiple clicks.\n",
              "      quickchartButtonEl.classList.add('colab-df-spinner');\n",
              "      try {\n",
              "        const charts = await google.colab.kernel.invokeFunction(\n",
              "            'suggestCharts', [key], {});\n",
              "      } catch (error) {\n",
              "        console.error('Error during call to suggestCharts:', error);\n",
              "      }\n",
              "      quickchartButtonEl.classList.remove('colab-df-spinner');\n",
              "      quickchartButtonEl.classList.add('colab-df-quickchart-complete');\n",
              "    }\n",
              "    (() => {\n",
              "      let quickchartButtonEl =\n",
              "        document.querySelector('#df-d5dfef10-a221-42c3-bcf8-feccf8ff1dca button');\n",
              "      quickchartButtonEl.style.display =\n",
              "        google.colab.kernel.accessAllowed ? 'block' : 'none';\n",
              "    })();\n",
              "  </script>\n",
              "</div>\n",
              "\n",
              "    </div>\n",
              "  </div>\n"
            ],
            "application/vnd.google.colaboratory.intrinsic+json": {
              "type": "dataframe"
            }
          },
          "metadata": {},
          "execution_count": 8
        }
      ]
    },
    {
      "cell_type": "code",
      "source": [
        "df.duplicated().sum()"
      ],
      "metadata": {
        "id": "OCTaNrXVZeS0",
        "colab": {
          "base_uri": "https://localhost:8080/"
        },
        "outputId": "e6a6068f-1467-4fc8-d647-dd5961835b63"
      },
      "execution_count": null,
      "outputs": [
        {
          "output_type": "execute_result",
          "data": {
            "text/plain": [
              "55"
            ]
          },
          "metadata": {},
          "execution_count": 9
        }
      ]
    },
    {
      "cell_type": "code",
      "source": [
        "df.drop_duplicates(df,inplace=True)"
      ],
      "metadata": {
        "id": "msxLZKzQZiC7"
      },
      "execution_count": null,
      "outputs": []
    },
    {
      "cell_type": "code",
      "source": [
        "print (f\"We have {df.shape[0]} Rows and {df.shape[1]} columns\")"
      ],
      "metadata": {
        "id": "DPo_JOktZm3W",
        "colab": {
          "base_uri": "https://localhost:8080/"
        },
        "outputId": "5b2573bf-7a6a-46c2-b70e-2477ab9889e6"
      },
      "execution_count": null,
      "outputs": [
        {
          "output_type": "stream",
          "name": "stdout",
          "text": [
            "We have 17863 Rows and 31 columns\n"
          ]
        }
      ]
    },
    {
      "cell_type": "code",
      "source": [
        "df[\"Class\"].value_counts().plot(kind= \"pie\",autopct='%1.2f%%', shadow = True)\n",
        "plt.show()"
      ],
      "metadata": {
        "id": "627GujtqZqd5",
        "colab": {
          "base_uri": "https://localhost:8080/",
          "height": 406
        },
        "outputId": "52fbb78a-b50f-4823-f5a8-aad84b4b9f9f"
      },
      "execution_count": null,
      "outputs": [
        {
          "output_type": "display_data",
          "data": {
            "text/plain": [
              "<Figure size 640x480 with 1 Axes>"
            ],
            "image/png": "[encoded data removed]"
          },
          "metadata": {}
        }
      ]
    },
    {
      "cell_type": "code",
      "source": [
        "plt.hist (data= df, x=\"Amount\")\n",
        "plt.title(\"where is the distributing in Amount column\")\n",
        "plt.show()"
      ],
      "metadata": {
        "id": "0TahVKNYZvGp",
        "colab": {
          "base_uri": "https://localhost:8080/",
          "height": 453
        },
        "outputId": "eef0c350-53ed-415c-aa4f-50cd0320f7f1"
      },
      "execution_count": null,
      "outputs": [
        {
          "output_type": "display_data",
          "data": {
            "text/plain": [
              "<Figure size 640x480 with 1 Axes>"
            ],
            "image/png": "[encoded data removed]"
          },
          "metadata": {}
        }
      ]
    },
    {
      "cell_type": "code",
      "source": [
        "df[\"Amount\"].sort_values(ascending=False).head(10)"
      ],
      "metadata": {
        "id": "rYhDq06ZZzPq",
        "colab": {
          "base_uri": "https://localhost:8080/"
        },
        "outputId": "419b11a3-2563-4fed-9332-7e719b375932"
      },
      "execution_count": null,
      "outputs": [
        {
          "output_type": "execute_result",
          "data": {
            "text/plain": [
              "1632     7712.43\n",
              "15835    6130.21\n",
              "6783     4002.88\n",
              "15714    4000.00\n",
              "7617     3995.92\n",
              "164      3828.04\n",
              "2178     3669.00\n",
              "2622     2909.97\n",
              "17454    2763.25\n",
              "7600     2746.34\n",
              "Name: Amount, dtype: float64"
            ]
          },
          "metadata": {},
          "execution_count": 14
        }
      ]
    },
    {
      "cell_type": "code",
      "source": [
        "from sklearn.model_selection import train_test_split\n",
        "\n",
        "from sklearn.metrics import  classification_report\n",
        "\n",
        "\n",
        "from sklearn.linear_model import LogisticRegression\n",
        "from sklearn.tree import DecisionTreeClassifier\n",
        "from sklearn.neighbors import  KNeighborsClassifier\n",
        "from sklearn.ensemble import RandomForestClassifier\n",
        "from sklearn.neural_network import  MLPClassifier\n",
        "from sklearn.svm import SVC"
      ],
      "metadata": {
        "id": "xgi255hmZ3aX"
      },
      "execution_count": null,
      "outputs": []
    },
    {
      "cell_type": "code",
      "source": [
        "X = df.drop(columns=\"Class\")\n",
        "y = df[\"Class\"]    # y = class\n",
        "\n",
        "# split the data train and test\n",
        "X_train, X_test, y_train, y_test = train_test_split(X, y, test_size=0.25, random_state=42)\n",
        "\n",
        "print(\"X Train : \", X_train.shape)\n",
        "print(\"X Test  : \", X_test.shape)\n",
        "print(\"Y Train : \", y_train.shape)\n",
        "print(\"Y Test  : \", y_test.shape)"
      ],
      "metadata": {
        "id": "OWKfSDtFZ7wK",
        "colab": {
          "base_uri": "https://localhost:8080/"
        },
        "outputId": "b8cfc9d7-cece-4413-ed58-745a1af6722b"
      },
      "execution_count": null,
      "outputs": [
        {
          "output_type": "stream",
          "name": "stdout",
          "text": [
            "X Train :  (13397, 30)\n",
            "X Test  :  (4466, 30)\n",
            "Y Train :  (13397,)\n",
            "Y Test  :  (4466,)\n"
          ]
        }
      ]
    },
    {
      "cell_type": "code",
      "source": [
        "LR = LogisticRegression()\n",
        "DTR = DecisionTreeClassifier()\n",
        "RFR = RandomForestClassifier()\n",
        "KNR = KNeighborsClassifier()\n",
        "MLP = MLPClassifier()\n",
        "SVC=SVC()"
      ],
      "metadata": {
        "id": "CBHb95Z2Z_5B"
      },
      "execution_count": null,
      "outputs": []
    },
    {
      "cell_type": "code",
      "source": [
        "# Check for missing values in X_train\n",
        "print(X_train.isnull().sum())\n",
        "\n",
        "# Check for missing values in y_train\n",
        "print(y_train.isnull().sum())"
      ],
      "metadata": {
        "colab": {
          "base_uri": "https://localhost:8080/"
        },
        "id": "3BRohv5Hxmmw",
        "outputId": "410a122c-eb34-4d6a-dcff-67179561b049"
      },
      "execution_count": null,
      "outputs": [
        {
          "output_type": "stream",
          "name": "stdout",
          "text": [
            "Time      0\n",
            "V1        0\n",
            "V2        0\n",
            "V3        0\n",
            "V4        0\n",
            "V5        1\n",
            "V6        1\n",
            "V7        1\n",
            "V8        1\n",
            "V9        1\n",
            "V10       1\n",
            "V11       1\n",
            "V12       1\n",
            "V13       1\n",
            "V14       1\n",
            "V15       1\n",
            "V16       1\n",
            "V17       1\n",
            "V18       1\n",
            "V19       1\n",
            "V20       1\n",
            "V21       1\n",
            "V22       1\n",
            "V23       1\n",
            "V24       1\n",
            "V25       1\n",
            "V26       1\n",
            "V27       1\n",
            "V28       1\n",
            "Amount    1\n",
            "dtype: int64\n",
            "1\n"
          ]
        }
      ]
    },
    {
      "cell_type": "code",
      "source": [
        "# Impute missing values in X_train with the mean\n",
        "X_train = X_train.fillna(X_train.mean())\n",
        "\n",
        "# Drop missing values in y_train\n",
        "y_train = y_train.dropna()"
      ],
      "metadata": {
        "id": "lqTApArgxrXz"
      },
      "execution_count": null,
      "outputs": []
    },
    {
      "cell_type": "code",
      "source": [
        "X_test = X_test.dropna()\n",
        "X_test = X_test.fillna(X_test.mean())"
      ],
      "metadata": {
        "id": "FEFPHJPPyU5i"
      },
      "execution_count": null,
      "outputs": []
    },
    {
      "cell_type": "code",
      "source": [
        "print(\"y_train.shape:\", y_train.shape)\n",
        "print(\"y_test.shape:\", y_test.shape)"
      ],
      "metadata": {
        "colab": {
          "base_uri": "https://localhost:8080/"
        },
        "id": "HhZ6WiU2ysiz",
        "outputId": "5984497d-b2e9-44e5-f776-6c3bdd933363"
      },
      "execution_count": null,
      "outputs": [
        {
          "output_type": "stream",
          "name": "stdout",
          "text": [
            "y_train.shape: (13396,)\n",
            "y_test.shape: (4466,)\n"
          ]
        }
      ]
    },
    {
      "cell_type": "code",
      "source": [
        "print(\"y_train.isnull().sum():\", y_train.isnull().sum())\n",
        "print(\"y_test.isnull().sum():\", y_test.isnull().sum())"
      ],
      "metadata": {
        "colab": {
          "base_uri": "https://localhost:8080/"
        },
        "id": "0A4mCWDGysUN",
        "outputId": "28c15d2a-430a-4ada-946b-9fa5b78b5ae1"
      },
      "execution_count": null,
      "outputs": [
        {
          "output_type": "stream",
          "name": "stdout",
          "text": [
            "y_train.isnull().sum(): 0\n",
            "y_test.isnull().sum(): 0\n"
          ]
        }
      ]
    },
    {
      "cell_type": "code",
      "source": [
        "print(\"Length of X_train:\", len(X_train))\n",
        "print(\"Length of y_train:\", len(y_train))"
      ],
      "metadata": {
        "colab": {
          "base_uri": "https://localhost:8080/"
        },
        "id": "5axO4o6-zGcr",
        "outputId": "a1d00093-8e95-4bfd-e79f-abe236f88c7b"
      },
      "execution_count": null,
      "outputs": [
        {
          "output_type": "stream",
          "name": "stdout",
          "text": [
            "Length of X_train: 13397\n",
            "Length of y_train: 13396\n"
          ]
        }
      ]
    },
    {
      "cell_type": "code",
      "source": [
        "missing_values_X = X_train.isnull().sum().sum()\n",
        "missing_values_y = y_train.isnull().sum()\n",
        "\n",
        "print(\"Number of missing values in X_train:\", missing_values_X)\n",
        "print(\"Number of missing values in y_train:\", missing_values_y)"
      ],
      "metadata": {
        "colab": {
          "base_uri": "https://localhost:8080/"
        },
        "id": "qf3dZD2czGZE",
        "outputId": "74f283a3-f3b9-419b-e876-861223104b73"
      },
      "execution_count": null,
      "outputs": [
        {
          "output_type": "stream",
          "name": "stdout",
          "text": [
            "Number of missing values in X_train: 0\n",
            "Number of missing values in y_train: 0\n"
          ]
        }
      ]
    },
    {
      "cell_type": "code",
      "source": [
        "li = [LR,DTR,RFR,KNR,SVC,MLP]"
      ],
      "metadata": {
        "id": "1u89zKeRzGVc"
      },
      "execution_count": null,
      "outputs": []
    },
    {
      "cell_type": "code",
      "source": [
        "print(X_train.head())"
      ],
      "metadata": {
        "colab": {
          "base_uri": "https://localhost:8080/"
        },
        "id": "WLP6A2vtzXLy",
        "outputId": "48192e7d-ee99-41e9-bacd-cc0daa7bf5fa"
      },
      "execution_count": null,
      "outputs": [
        {
          "output_type": "stream",
          "name": "stdout",
          "text": [
            "        Time        V1        V2        V3        V4        V5        V6  \\\n",
            "10616  17776 -1.450459  1.962882  1.460747  2.917672  0.301669  0.095915   \n",
            "3173    2748 -1.555091  0.408805  2.819519  0.758859  0.899581  0.153879   \n",
            "13124  23040  0.879295  0.001973 -0.094510  1.264449  0.544229  0.705941   \n",
            "5251    5086  1.218937  0.390308 -0.095416  1.034363  0.391304 -0.218574   \n",
            "12538  21940  1.302643 -0.465118  0.788434 -0.414847 -1.085432 -0.719777   \n",
            "\n",
            "             V7        V8        V9  ...       V20       V21       V22  \\\n",
            "10616  1.130984 -0.442507 -0.193925  ... -0.187036 -0.081123  0.196692   \n",
            "3173   0.141361  0.454719 -1.218959  ... -0.026393  0.193270  0.156128   \n",
            "13124  0.168938  0.193764  1.159581  ... -0.232132  0.037570  0.273465   \n",
            "5251   0.220289 -0.187916  0.914154  ... -0.083897 -0.162890 -0.264037   \n",
            "12538 -0.720332 -0.131308  0.565153  ... -0.010001 -0.190552 -0.465660   \n",
            "\n",
            "            V23       V24       V25       V26       V27       V28  Amount  \n",
            "10616 -0.155843  0.373026  0.232468  0.204256 -1.145592 -0.465607   53.89  \n",
            "3173  -0.086369 -0.027820  0.304703 -0.316513 -0.003734  0.070669   28.06  \n",
            "13124 -0.036151 -0.708290  0.389360 -0.232611  0.009744  0.007320   99.99  \n",
            "5251  -0.225023 -0.554951  0.781511 -0.366251 -0.032235 -0.002840   32.96  \n",
            "12538  0.205295  0.311078  0.063991 -0.511090 -0.007329  0.018702   29.90  \n",
            "\n",
            "[5 rows x 30 columns]\n"
          ]
        }
      ]
    },
    {
      "cell_type": "code",
      "source": [
        "print(X_train.isnull().sum())"
      ],
      "metadata": {
        "colab": {
          "base_uri": "https://localhost:8080/"
        },
        "id": "AOGuUIoJzXIW",
        "outputId": "9eccb597-fcc8-4b7f-b143-d8b4f1f3b5f8"
      },
      "execution_count": null,
      "outputs": [
        {
          "output_type": "stream",
          "name": "stdout",
          "text": [
            "Time      0\n",
            "V1        0\n",
            "V2        0\n",
            "V3        0\n",
            "V4        0\n",
            "V5        0\n",
            "V6        0\n",
            "V7        0\n",
            "V8        0\n",
            "V9        0\n",
            "V10       0\n",
            "V11       0\n",
            "V12       0\n",
            "V13       0\n",
            "V14       0\n",
            "V15       0\n",
            "V16       0\n",
            "V17       0\n",
            "V18       0\n",
            "V19       0\n",
            "V20       0\n",
            "V21       0\n",
            "V22       0\n",
            "V23       0\n",
            "V24       0\n",
            "V25       0\n",
            "V26       0\n",
            "V27       0\n",
            "V28       0\n",
            "Amount    0\n",
            "dtype: int64\n"
          ]
        }
      ]
    },
    {
      "cell_type": "code",
      "source": [
        "X_train = X_train.dropna()\n",
        "X_train = X_train.fillna(X_train.mean())\n"
      ],
      "metadata": {
        "id": "nnV7PqmZzfiJ"
      },
      "execution_count": null,
      "outputs": []
    },
    {
      "cell_type": "code",
      "source": [
        "for i in li:\n",
        "  print(y_train.isnull().sum())"
      ],
      "metadata": {
        "colab": {
          "base_uri": "https://localhost:8080/"
        },
        "id": "LcUCU-Pczs9e",
        "outputId": "12bcbefc-3cf1-4863-fcc7-08b93a4dbfeb"
      },
      "execution_count": null,
      "outputs": [
        {
          "output_type": "stream",
          "name": "stdout",
          "text": [
            "0\n",
            "0\n",
            "0\n",
            "0\n",
            "0\n",
            "0\n"
          ]
        }
      ]
    },
    {
      "cell_type": "code",
      "source": [
        "  y_train = y_train.dropna()\n",
        "  y_train = y_train.fillna(y_train.mode()[0])\n",
        "  y_train = y_train.fillna(\"Unknown\")"
      ],
      "metadata": {
        "id": "rYOC8OkVzxT1"
      },
      "execution_count": null,
      "outputs": []
    },
    {
      "cell_type": "code",
      "source": [
        "print(f\"X_train shape: {X_train.shape}\")\n",
        "print(f\"y_train shape: {y_train.shape}\")\n",
        "print(f\"X_test shape: {X_test.shape}\")"
      ],
      "metadata": {
        "colab": {
          "base_uri": "https://localhost:8080/"
        },
        "id": "3a4AffMId0FD",
        "outputId": "67c6f4a8-8dfa-4126-cdd4-b120e53da8a2"
      },
      "execution_count": null,
      "outputs": [
        {
          "output_type": "stream",
          "name": "stdout",
          "text": [
            "X_train shape: (13397, 30)\n",
            "y_train shape: (13396,)\n",
            "X_test shape: (4466, 30)\n"
          ]
        }
      ]
    },
    {
      "cell_type": "code",
      "source": [
        "# If X_train and y_train have different number of rows, fix it\n",
        "if X_train.shape[0] != y_train.shape[0]:\n",
        "    # Drop the last row of X_train or y_train to make them consistent\n",
        "    if X_train.shape[0] > y_train.shape[0]:\n",
        "        X_train = X_train[:-1]\n",
        "    else:\n",
        "        y_train = y_train[:-1]\n",
        "\n",
        "# If X_test has a different number of rows than X_train, fix it\n",
        "if X_train.shape[0] != X_test.shape[0]:\n",
        "    # Drop the last row of X_test to make it consistent with X_train\n",
        "    X_test = X_test[:-1]"
      ],
      "metadata": {
        "id": "dZP1i57Ed0AE"
      },
      "execution_count": null,
      "outputs": []
    },
    {
      "cell_type": "code",
      "source": [
        "i.fit(X_train,y_train)\n",
        "ypred = i.predict(X_test)"
      ],
      "metadata": {
        "id": "nS0sS6Btd9XJ"
      },
      "execution_count": null,
      "outputs": []
    },
    {
      "cell_type": "code",
      "source": [
        "if len(y_test) > len(ypred):\n",
        "    y_test = y_test[:-1]\n",
        "elif len(ypred) > len(y_test):\n",
        "    ypred = ypred[:-1]"
      ],
      "metadata": {
        "id": "rJH1t8Wr0gav"
      },
      "execution_count": null,
      "outputs": []
    },
    {
      "cell_type": "code",
      "source": [
        "print(len(y_test))\n",
        "print(len(ypred))"
      ],
      "metadata": {
        "colab": {
          "base_uri": "https://localhost:8080/"
        },
        "id": "smMlB-wJ0kCz",
        "outputId": "d5f6b441-413f-4901-c993-234d6162eea0"
      },
      "execution_count": null,
      "outputs": [
        {
          "output_type": "stream",
          "name": "stdout",
          "text": [
            "4465\n",
            "4465\n"
          ]
        }
      ]
    },
    {
      "cell_type": "code",
      "source": [
        "from sklearn.metrics import classification_report"
      ],
      "metadata": {
        "id": "3OLlyZCZ1kfV"
      },
      "execution_count": null,
      "outputs": []
    },
    {
      "cell_type": "code",
      "source": [
        "print(y_test)\n",
        "print(ypred)"
      ],
      "metadata": {
        "colab": {
          "base_uri": "https://localhost:8080/"
        },
        "id": "YhOd7JYW1kUE",
        "outputId": "fb9305d0-9556-4bf3-8419-8e7a33b67438"
      },
      "execution_count": null,
      "outputs": [
        {
          "output_type": "stream",
          "name": "stdout",
          "text": [
            "5960     0.0\n",
            "8181     0.0\n",
            "13460    0.0\n",
            "11375    0.0\n",
            "17024    0.0\n",
            "        ... \n",
            "6584     0.0\n",
            "7963     0.0\n",
            "8991     0.0\n",
            "10705    0.0\n",
            "10605    0.0\n",
            "Name: Class, Length: 4465, dtype: float64\n",
            "[0. 0. 0. ... 0. 0. 0.]\n"
          ]
        }
      ]
    },
    {
      "cell_type": "code",
      "source": [
        "nan_mask = np.isnan(y_test)\n",
        "print(f\"Number of NaN values in y_test: {nan_mask.sum()}\")\n",
        "\n",
        "nan_mask = np.isnan(ypred)\n",
        "print(f\"Number of NaN values in ypred: {nan_mask.sum()}\")"
      ],
      "metadata": {
        "colab": {
          "base_uri": "https://localhost:8080/"
        },
        "id": "g4ZoYdSU1kOJ",
        "outputId": "1b20bd20-c56f-4d82-d116-db8afa64b986"
      },
      "execution_count": null,
      "outputs": [
        {
          "output_type": "stream",
          "name": "stdout",
          "text": [
            "Number of NaN values in y_test: 0\n",
            "Number of NaN values in ypred: 0\n"
          ]
        }
      ]
    },
    {
      "cell_type": "code",
      "source": [
        "y_test = y_test[~nan_mask]\n",
        "ypred = ypred[~nan_mask]"
      ],
      "metadata": {
        "id": "ZUbqgJLC1kAX"
      },
      "execution_count": null,
      "outputs": []
    },
    {
      "cell_type": "code",
      "source": [
        "\n",
        "nan_indices = np.isnan(y_test)\n",
        "print(\"Indices with NaN values in y_test:\", np.where(nan_indices)[0])\n"
      ],
      "metadata": {
        "colab": {
          "base_uri": "https://localhost:8080/"
        },
        "id": "NIDt90LV2eT6",
        "outputId": "e76ce7a5-8b26-4262-86bc-90c839d510d5"
      },
      "execution_count": null,
      "outputs": [
        {
          "output_type": "stream",
          "name": "stdout",
          "text": [
            "Indices with NaN values in y_test: []\n"
          ]
        }
      ]
    },
    {
      "cell_type": "code",
      "source": [
        "print(i,\":\",classification_report(y_test,ypred))\n",
        "\n",
        "print(\"********************************************\")"
      ],
      "metadata": {
        "colab": {
          "base_uri": "https://localhost:8080/"
        },
        "id": "95GRgMiO1z_E",
        "outputId": "ace65a9d-f48f-4fa0-85f7-4b92525b6444"
      },
      "execution_count": null,
      "outputs": [
        {
          "output_type": "stream",
          "name": "stdout",
          "text": [
            "MLPClassifier() :               precision    recall  f1-score   support\n",
            "\n",
            "         0.0       1.00      1.00      1.00      4441\n",
            "         1.0       0.65      0.62      0.64        24\n",
            "\n",
            "    accuracy                           1.00      4465\n",
            "   macro avg       0.83      0.81      0.82      4465\n",
            "weighted avg       1.00      1.00      1.00      4465\n",
            "\n",
            "********************************************\n"
          ]
        }
      ]
    },
    {
      "cell_type": "code",
      "source": [
        "from sklearn.feature_selection import SelectPercentile\n",
        "from sklearn.linear_model import LogisticRegression"
      ],
      "metadata": {
        "id": "L35MCAflaHVH"
      },
      "execution_count": null,
      "outputs": []
    },
    {
      "cell_type": "code",
      "source": [
        "F_50 = SelectPercentile( percentile= 50)"
      ],
      "metadata": {
        "id": "VLTfH_KZaMGE"
      },
      "execution_count": null,
      "outputs": []
    },
    {
      "cell_type": "code",
      "source": [
        "# Check for missing values\n",
        "missing_values = X.isnull().sum().sum()\n",
        "\n",
        "# Check the data type of X\n",
        "data_type = X.dtypes\n",
        "\n",
        "# Print the results\n",
        "print(f\"Missing values: {missing_values}\")\n",
        "print(f\"Data type: {data_type}\")"
      ],
      "metadata": {
        "id": "xILZDTSKKheC",
        "colab": {
          "base_uri": "https://localhost:8080/"
        },
        "outputId": "4ca63bec-91cc-41d1-cba1-34fd647230e5"
      },
      "execution_count": null,
      "outputs": [
        {
          "output_type": "stream",
          "name": "stdout",
          "text": [
            "Missing values: 25\n",
            "Data type: Time        int64\n",
            "V1        float64\n",
            "V2        float64\n",
            "V3        float64\n",
            "V4        float64\n",
            "V5        float64\n",
            "V6        float64\n",
            "V7        float64\n",
            "V8        float64\n",
            "V9        float64\n",
            "V10       float64\n",
            "V11       float64\n",
            "V12       float64\n",
            "V13       float64\n",
            "V14       float64\n",
            "V15       float64\n",
            "V16       float64\n",
            "V17       float64\n",
            "V18       float64\n",
            "V19       float64\n",
            "V20       float64\n",
            "V21       float64\n",
            "V22       float64\n",
            "V23       float64\n",
            "V24       float64\n",
            "V25       float64\n",
            "V26       float64\n",
            "V27       float64\n",
            "V28       float64\n",
            "Amount    float64\n",
            "dtype: object\n"
          ]
        }
      ]
    },
    {
      "cell_type": "code",
      "source": [
        "nan_indices = pd.isnull(y)\n",
        "print(y[nan_indices])"
      ],
      "metadata": {
        "id": "OPF0vtswjIj4",
        "colab": {
          "base_uri": "https://localhost:8080/"
        },
        "outputId": "46692598-69d4-4c08-bd58-961679f84f7c"
      },
      "execution_count": null,
      "outputs": [
        {
          "output_type": "stream",
          "name": "stdout",
          "text": [
            "17917   NaN\n",
            "Name: Class, dtype: float64\n"
          ]
        }
      ]
    },
    {
      "cell_type": "code",
      "source": [
        "X = X[~nan_indices]\n",
        "y = y.dropna()\n"
      ],
      "metadata": {
        "id": "OF24XV8MjRKK"
      },
      "execution_count": null,
      "outputs": []
    },
    {
      "cell_type": "code",
      "source": [
        "y.fillna(value=0, inplace=True)\n",
        "\n"
      ],
      "metadata": {
        "id": "ujxS572XjVuL"
      },
      "execution_count": null,
      "outputs": []
    },
    {
      "cell_type": "code",
      "source": [
        "mean_value = y.mean()\n",
        "y.fillna(mean_value, inplace=True)"
      ],
      "metadata": {
        "id": "Lia9wkwekQUe"
      },
      "execution_count": null,
      "outputs": []
    },
    {
      "cell_type": "code",
      "source": [
        "set_X = F_50.fit_transform(X, y)\n"
      ],
      "metadata": {
        "id": "hLBugjPThj3J"
      },
      "execution_count": null,
      "outputs": []
    },
    {
      "cell_type": "code",
      "source": [
        "selected_columns = [i for i, j in zip(X.columns, F_50.get_support()) if j == True]\n"
      ],
      "metadata": {
        "id": "Iu47h691lYj5"
      },
      "execution_count": null,
      "outputs": []
    },
    {
      "cell_type": "code",
      "source": [
        "selected_columns = [i for i, j in zip(X.columns, F_50.get_support()) if j == True]\n",
        "new_x = pd.DataFrame(set_X, columns=selected_columns)"
      ],
      "metadata": {
        "id": "Qjh0VwGTaWeO"
      },
      "execution_count": null,
      "outputs": []
    },
    {
      "cell_type": "code",
      "source": [
        "from sklearn.model_selection import train_test_split"
      ],
      "metadata": {
        "id": "vvxmQ9CRr4zS"
      },
      "execution_count": null,
      "outputs": []
    },
    {
      "cell_type": "code",
      "source": [
        "print(\"X Shape:\", X.shape)\n",
        "print(\"y Shape:\", y.shape)"
      ],
      "metadata": {
        "id": "9C2XrMN3q_TY",
        "colab": {
          "base_uri": "https://localhost:8080/"
        },
        "outputId": "73008890-2927-4233-8f14-af0befdc7730"
      },
      "execution_count": null,
      "outputs": [
        {
          "output_type": "stream",
          "name": "stdout",
          "text": [
            "X Shape: (17862, 30)\n",
            "y Shape: (17862,)\n"
          ]
        }
      ]
    },
    {
      "cell_type": "code",
      "source": [
        "print(\"Missing values in X:\", X.isnull().sum().sum())\n",
        "print(\"Missing values in y:\", y.isnull().sum())"
      ],
      "metadata": {
        "id": "AmvCBq8KrAQ3",
        "colab": {
          "base_uri": "https://localhost:8080/"
        },
        "outputId": "f41a9ab0-19ca-4cbf-a602-5dbe4268a17e"
      },
      "execution_count": null,
      "outputs": [
        {
          "output_type": "stream",
          "name": "stdout",
          "text": [
            "Missing values in X: 0\n",
            "Missing values in y: 0\n"
          ]
        }
      ]
    },
    {
      "cell_type": "code",
      "source": [
        "# Remove duplicate row in y\n",
        "y = y.drop_duplicates()\n",
        "\n",
        "# Verify data size consistency\n",
        "print(\"X Shape:\", X.shape)\n",
        "print(\"y Shape:\", y.shape)"
      ],
      "metadata": {
        "id": "cG2YBprBrCAe",
        "colab": {
          "base_uri": "https://localhost:8080/"
        },
        "outputId": "f2ab24ab-e561-4aa2-f24b-1848a98596c1"
      },
      "execution_count": null,
      "outputs": [
        {
          "output_type": "stream",
          "name": "stdout",
          "text": [
            "X Shape: (17862, 30)\n",
            "y Shape: (2,)\n"
          ]
        }
      ]
    },
    {
      "cell_type": "code",
      "source": [
        "X = new_x\n",
        "y = df[\"Class\"]"
      ],
      "metadata": {
        "id": "s5wfWwF7rbCY"
      },
      "execution_count": null,
      "outputs": []
    },
    {
      "cell_type": "code",
      "source": [
        "X_train = train_test_split(X)\n"
      ],
      "metadata": {
        "id": "id6Ajy6ws18K"
      },
      "execution_count": null,
      "outputs": []
    },
    {
      "cell_type": "code",
      "source": [
        "X_test = train_test_split(y)"
      ],
      "metadata": {
        "id": "nZei0h_us6SF"
      },
      "execution_count": null,
      "outputs": []
    },
    {
      "cell_type": "code",
      "source": [
        "from sklearn.model_selection import train_test_split"
      ],
      "metadata": {
        "id": "ITa2NU6Ntake"
      },
      "execution_count": null,
      "outputs": []
    },
    {
      "cell_type": "code",
      "source": [
        "y_train, y_test = train_test_split(y_train, test_size=0.25)"
      ],
      "metadata": {
        "id": "MhhFTTUZtiO1"
      },
      "execution_count": null,
      "outputs": []
    },
    {
      "cell_type": "code",
      "source": [
        "\n",
        "y_test = train_test_split(y, random_state=42)\n"
      ],
      "metadata": {
        "id": "mR3lkNx7tiZi"
      },
      "execution_count": null,
      "outputs": []
    },
    {
      "cell_type": "code",
      "source": [
        "print(type(X_train))\n",
        "print(type(X_test))"
      ],
      "metadata": {
        "id": "4pFa40Epu-Pc",
        "colab": {
          "base_uri": "https://localhost:8080/"
        },
        "outputId": "d58a62cb-6a2b-4a38-e2e8-7ed1e5ea9bf8"
      },
      "execution_count": null,
      "outputs": [
        {
          "output_type": "stream",
          "name": "stdout",
          "text": [
            "<class 'list'>\n",
            "<class 'list'>\n"
          ]
        }
      ]
    },
    {
      "cell_type": "code",
      "source": [
        "X_train = pd.DataFrame([dict(row) for row in X_train])\n",
        "X_test = pd.DataFrame([dict(row) for row in X_test])"
      ],
      "metadata": {
        "id": "WAW0tVXVu-UR"
      },
      "execution_count": null,
      "outputs": []
    },
    {
      "cell_type": "code",
      "source": [
        "X_train = pd.DataFrame(X_train.values.tolist())\n",
        "X_test = pd.DataFrame(X_test.values.tolist())\n",
        "print(X_train.shape)\n",
        "print(X_test.shape)"
      ],
      "metadata": {
        "id": "dwoTqLCBuZcM",
        "colab": {
          "base_uri": "https://localhost:8080/"
        },
        "outputId": "4a26bb91-29e5-4ebd-b7ba-8341d1089e73"
      },
      "execution_count": null,
      "outputs": [
        {
          "output_type": "stream",
          "name": "stdout",
          "text": [
            "(2, 15)\n",
            "(2, 17863)\n"
          ]
        }
      ]
    },
    {
      "cell_type": "code",
      "source": [
        "X_train = pd.DataFrame(X_train)\n",
        "X_test = pd.DataFrame(X_test)"
      ],
      "metadata": {
        "id": "4gJA7rWXuLCa"
      },
      "execution_count": null,
      "outputs": []
    },
    {
      "cell_type": "code",
      "source": [
        "y_test = pd.DataFrame(y_test)"
      ],
      "metadata": {
        "id": "QQIuBPqBviJ1"
      },
      "execution_count": null,
      "outputs": []
    },
    {
      "cell_type": "code",
      "source": [
        "print(\"X Train : \", X_train.shape)\n",
        "print(\"X Test  : \", X_test.shape)\n",
        "print(\"Y Train : \", y_train.shape)\n",
        "print(\"Y Test  : \", y_test.shape)"
      ],
      "metadata": {
        "id": "cWUHxnrDaaMH",
        "colab": {
          "base_uri": "https://localhost:8080/"
        },
        "outputId": "e33ca8ec-920f-4619-8d49-ef684b84da10"
      },
      "execution_count": null,
      "outputs": [
        {
          "output_type": "stream",
          "name": "stdout",
          "text": [
            "X Train :  (2, 15)\n",
            "X Test  :  (2, 17863)\n",
            "Y Train :  (10047,)\n",
            "Y Test  :  (2, 17863)\n"
          ]
        }
      ]
    },
    {
      "cell_type": "code",
      "source": [
        "print(type(y_train))\n",
        "y_train = y_train.to_numpy()"
      ],
      "metadata": {
        "id": "qg0Z7xtRwCGj",
        "colab": {
          "base_uri": "https://localhost:8080/"
        },
        "outputId": "0b761677-544d-4a4c-c699-9808997ab472"
      },
      "execution_count": null,
      "outputs": [
        {
          "output_type": "stream",
          "name": "stdout",
          "text": [
            "<class 'pandas.core.series.Series'>\n"
          ]
        }
      ]
    },
    {
      "cell_type": "code",
      "source": [
        "li = [LR,DTR,RFR,KNR,SVC,MLP]"
      ],
      "metadata": {
        "id": "IgtcA7fieK94"
      },
      "execution_count": null,
      "outputs": []
    },
    {
      "cell_type": "code",
      "source": [
        "print(f\"y_train type: {type(y_train)}\")\n",
        "print(f\"y_train shape: {y_train.shape}\")\n",
        "print(f\"y_train first element: {y_train[0]}\")"
      ],
      "metadata": {
        "colab": {
          "base_uri": "https://localhost:8080/"
        },
        "id": "jntBRvEEeWbk",
        "outputId": "326df7a2-60f5-4def-c635-0c8b3a548b24"
      },
      "execution_count": null,
      "outputs": [
        {
          "output_type": "stream",
          "name": "stdout",
          "text": [
            "y_train type: <class 'numpy.ndarray'>\n",
            "y_train shape: (10047,)\n",
            "y_train first element: 0.0\n"
          ]
        }
      ]
    },
    {
      "cell_type": "code",
      "source": [
        "print(y_train.dtype)"
      ],
      "metadata": {
        "colab": {
          "base_uri": "https://localhost:8080/"
        },
        "id": "A3OnfIN5fosI",
        "outputId": "e13dacad-6623-48ee-d79c-dc2e27f4c5ae"
      },
      "execution_count": null,
      "outputs": [
        {
          "output_type": "stream",
          "name": "stdout",
          "text": [
            "float64\n"
          ]
        }
      ]
    },
    {
      "cell_type": "code",
      "source": [
        "y_train = y_train.astype('int')"
      ],
      "metadata": {
        "id": "ruTz5q6jfonB"
      },
      "execution_count": null,
      "outputs": []
    },
    {
      "cell_type": "code",
      "source": [
        "li = [LogisticRegression() for _ in range(3)]"
      ],
      "metadata": {
        "id": "Ke6Jc6dqLnzs"
      },
      "execution_count": null,
      "outputs": []
    },
    {
      "cell_type": "code",
      "source": [
        "i = LogisticRegression()"
      ],
      "metadata": {
        "id": "ltEjAzsoMuX1"
      },
      "execution_count": null,
      "outputs": []
    },
    {
      "cell_type": "code",
      "source": [
        "print(type(X_train))\n",
        "print(type(y_train))"
      ],
      "metadata": {
        "colab": {
          "base_uri": "https://localhost:8080/"
        },
        "id": "JkM0CkGDM8fK",
        "outputId": "c6c44745-8928-4074-d7b0-15b9d4af80db"
      },
      "execution_count": null,
      "outputs": [
        {
          "output_type": "stream",
          "name": "stdout",
          "text": [
            "<class 'pandas.core.frame.DataFrame'>\n",
            "<class 'numpy.ndarray'>\n"
          ]
        }
      ]
    },
    {
      "cell_type": "code",
      "source": [
        "if isinstance(y_train, pd.Series):\n",
        "    y_train = y_train.to_numpy()"
      ],
      "metadata": {
        "id": "JaDwZaM5M8aW"
      },
      "execution_count": null,
      "outputs": []
    },
    {
      "cell_type": "code",
      "source": [
        "if isinstance(X_train, pd.DataFrame):\n",
        "    X_train = X_train.to_numpy()"
      ],
      "metadata": {
        "id": "FlGgjWDpNDSX"
      },
      "execution_count": null,
      "outputs": []
    },
    {
      "cell_type": "code",
      "source": [
        "print(X_train.shape)\n",
        "print(y_train.shape)"
      ],
      "metadata": {
        "colab": {
          "base_uri": "https://localhost:8080/"
        },
        "id": "Pr1IY7uRNKb8",
        "outputId": "76b926a4-8b7f-472b-ed33-9ce7ae6e1ed1"
      },
      "execution_count": null,
      "outputs": [
        {
          "output_type": "stream",
          "name": "stdout",
          "text": [
            "(2, 15)\n",
            "(10047,)\n"
          ]
        }
      ]
    },
    {
      "cell_type": "code",
      "source": [
        "\n",
        "\n",
        "# Convert y_train to a pandas Series\n",
        "y_train_series = pd.Series(y_train)\n",
        "\n",
        "# Filter non-numeric values using isin() method\n",
        "non_numeric_values = y_train_series[~y_train_series.isin([0, 1])]\n",
        "\n",
        "# Print the number of non-numeric values\n",
        "print(f\"Number of non-numeric values: {len(non_numeric_values)}\")"
      ],
      "metadata": {
        "colab": {
          "base_uri": "https://localhost:8080/"
        },
        "id": "WEv32mPYh5Ix",
        "outputId": "92ad2696-c16d-4e9b-dfd5-edfd3ffeb71e"
      },
      "execution_count": null,
      "outputs": [
        {
          "output_type": "stream",
          "name": "stdout",
          "text": [
            "Number of non-numeric values: 0\n"
          ]
        }
      ]
    },
    {
      "cell_type": "code",
      "source": [
        "df['Class'].value_counts()"
      ],
      "metadata": {
        "colab": {
          "base_uri": "https://localhost:8080/"
        },
        "id": "TfZoezqLku7I",
        "outputId": "c92bc9c4-de2e-493e-fdfe-868a6ca50c25"
      },
      "execution_count": null,
      "outputs": [
        {
          "output_type": "execute_result",
          "data": {
            "text/plain": [
              "0.0    17781\n",
              "1.0       81\n",
              "Name: Class, dtype: int64"
            ]
          },
          "metadata": {},
          "execution_count": 87
        }
      ]
    },
    {
      "cell_type": "code",
      "source": [
        "legit = df[df.Class == 0]\n",
        "fraud = df[df.Class == 1]"
      ],
      "metadata": {
        "id": "08gnE5UiktE_"
      },
      "execution_count": null,
      "outputs": []
    },
    {
      "cell_type": "code",
      "source": [
        "print(legit.shape)\n",
        "print(fraud.shape)"
      ],
      "metadata": {
        "colab": {
          "base_uri": "https://localhost:8080/"
        },
        "id": "RSGCQS2OktBI",
        "outputId": "bfd2e3cf-9b5c-4498-fd59-57564ae8c0b0"
      },
      "execution_count": null,
      "outputs": [
        {
          "output_type": "stream",
          "name": "stdout",
          "text": [
            "(17781, 31)\n",
            "(81, 31)\n"
          ]
        }
      ]
    },
    {
      "cell_type": "code",
      "source": [
        "legit.Amount.describe()"
      ],
      "metadata": {
        "colab": {
          "base_uri": "https://localhost:8080/"
        },
        "id": "uKDQpbkHlj0M",
        "outputId": "f608eb2f-0525-43e4-cc47-629b360dc3e8"
      },
      "execution_count": null,
      "outputs": [
        {
          "output_type": "execute_result",
          "data": {
            "text/plain": [
              "count    17781.000000\n",
              "mean        67.497142\n",
              "std        189.016461\n",
              "min          0.000000\n",
              "25%          5.530000\n",
              "50%         15.950000\n",
              "75%         56.650000\n",
              "max       7712.430000\n",
              "Name: Amount, dtype: float64"
            ]
          },
          "metadata": {},
          "execution_count": 90
        }
      ]
    },
    {
      "cell_type": "code",
      "source": [
        "fraud.Amount.describe()"
      ],
      "metadata": {
        "colab": {
          "base_uri": "https://localhost:8080/"
        },
        "id": "1JSbU1lxljvi",
        "outputId": "595d0f1d-08c2-4b37-c9c0-33dd67c87558"
      },
      "execution_count": null,
      "outputs": [
        {
          "output_type": "execute_result",
          "data": {
            "text/plain": [
              "count      81.000000\n",
              "mean       98.105926\n",
              "std       267.464067\n",
              "min         0.000000\n",
              "25%         1.000000\n",
              "50%         1.000000\n",
              "75%        99.990000\n",
              "max      1809.680000\n",
              "Name: Amount, dtype: float64"
            ]
          },
          "metadata": {},
          "execution_count": 91
        }
      ]
    },
    {
      "cell_type": "code",
      "source": [
        "df.groupby('Class').mean()"
      ],
      "metadata": {
        "colab": {
          "base_uri": "https://localhost:8080/",
          "height": 193
        },
        "id": "AcSYyckYljqU",
        "outputId": "12adf338-4366-4eb9-801f-70f2e155cb33"
      },
      "execution_count": null,
      "outputs": [
        {
          "output_type": "execute_result",
          "data": {
            "text/plain": [
              "               Time        V1        V2         V3        V4        V5  \\\n",
              "Class                                                                    \n",
              "0.0    13909.355942 -0.201419  0.226100   0.840832  0.261216 -0.116804   \n",
              "1.0    16833.074074 -9.315066  6.779465 -13.052870  6.451318 -6.557541   \n",
              "\n",
              "             V6        V7        V8        V9  ...       V20       V21  \\\n",
              "Class                                          ...                       \n",
              "0.0    0.110084 -0.109623 -0.007410  0.751028  ...  0.033286 -0.056804   \n",
              "1.0   -2.602613 -9.012856  4.730365 -3.087651  ...  0.756424  0.549752   \n",
              "\n",
              "            V22       V23       V24       V25       V26       V27       V28  \\\n",
              "Class                                                                         \n",
              "0.0   -0.144003 -0.037186  0.016526  0.118912  0.036588  0.011394  0.006738   \n",
              "1.0   -0.423495 -0.398104 -0.277836  0.355688  0.177616  0.940693  0.090007   \n",
              "\n",
              "          Amount  \n",
              "Class             \n",
              "0.0    67.497142  \n",
              "1.0    98.105926  \n",
              "\n",
              "[2 rows x 30 columns]"
            ],
            "text/html": [
              "\n",
              "  <div id=\"df-0ecd8fa7-e573-489b-adae-9656a85c4dc7\" class=\"colab-df-container\">\n",
              "    <div>\n",
              "<style scoped>\n",
              "    .dataframe tbody tr th:only-of-type {\n",
              "        vertical-align: middle;\n",
              "    }\n",
              "\n",
              "    .dataframe tbody tr th {\n",
              "        vertical-align: top;\n",
              "    }\n",
              "\n",
              "    .dataframe thead th {\n",
              "        text-align: right;\n",
              "    }\n",
              "</style>\n",
              "<table border=\"1\" class=\"dataframe\">\n",
              "  <thead>\n",
              "    <tr style=\"text-align: right;\">\n",
              "      <th></th>\n",
              "      <th>Time</th>\n",
              "      <th>V1</th>\n",
              "      <th>V2</th>\n",
              "      <th>V3</th>\n",
              "      <th>V4</th>\n",
              "      <th>V5</th>\n",
              "      <th>V6</th>\n",
              "      <th>V7</th>\n",
              "      <th>V8</th>\n",
              "      <th>V9</th>\n",
              "      <th>...</th>\n",
              "      <th>V20</th>\n",
              "      <th>V21</th>\n",
              "      <th>V22</th>\n",
              "      <th>V23</th>\n",
              "      <th>V24</th>\n",
              "      <th>V25</th>\n",
              "      <th>V26</th>\n",
              "      <th>V27</th>\n",
              "      <th>V28</th>\n",
              "      <th>Amount</th>\n",
              "    </tr>\n",
              "    <tr>\n",
              "      <th>Class</th>\n",
              "      <th></th>\n",
              "      <th></th>\n",
              "      <th></th>\n",
              "      <th></th>\n",
              "      <th></th>\n",
              "      <th></th>\n",
              "      <th></th>\n",
              "      <th></th>\n",
              "      <th></th>\n",
              "      <th></th>\n",
              "      <th></th>\n",
              "      <th></th>\n",
              "      <th></th>\n",
              "      <th></th>\n",
              "      <th></th>\n",
              "      <th></th>\n",
              "      <th></th>\n",
              "      <th></th>\n",
              "      <th></th>\n",
              "      <th></th>\n",
              "      <th></th>\n",
              "    </tr>\n",
              "  </thead>\n",
              "  <tbody>\n",
              "    <tr>\n",
              "      <th>0.0</th>\n",
              "      <td>13909.355942</td>\n",
              "      <td>-0.201419</td>\n",
              "      <td>0.226100</td>\n",
              "      <td>0.840832</td>\n",
              "      <td>0.261216</td>\n",
              "      <td>-0.116804</td>\n",
              "      <td>0.110084</td>\n",
              "      <td>-0.109623</td>\n",
              "      <td>-0.007410</td>\n",
              "      <td>0.751028</td>\n",
              "      <td>...</td>\n",
              "      <td>0.033286</td>\n",
              "      <td>-0.056804</td>\n",
              "      <td>-0.144003</td>\n",
              "      <td>-0.037186</td>\n",
              "      <td>0.016526</td>\n",
              "      <td>0.118912</td>\n",
              "      <td>0.036588</td>\n",
              "      <td>0.011394</td>\n",
              "      <td>0.006738</td>\n",
              "      <td>67.497142</td>\n",
              "    </tr>\n",
              "    <tr>\n",
              "      <th>1.0</th>\n",
              "      <td>16833.074074</td>\n",
              "      <td>-9.315066</td>\n",
              "      <td>6.779465</td>\n",
              "      <td>-13.052870</td>\n",
              "      <td>6.451318</td>\n",
              "      <td>-6.557541</td>\n",
              "      <td>-2.602613</td>\n",
              "      <td>-9.012856</td>\n",
              "      <td>4.730365</td>\n",
              "      <td>-3.087651</td>\n",
              "      <td>...</td>\n",
              "      <td>0.756424</td>\n",
              "      <td>0.549752</td>\n",
              "      <td>-0.423495</td>\n",
              "      <td>-0.398104</td>\n",
              "      <td>-0.277836</td>\n",
              "      <td>0.355688</td>\n",
              "      <td>0.177616</td>\n",
              "      <td>0.940693</td>\n",
              "      <td>0.090007</td>\n",
              "      <td>98.105926</td>\n",
              "    </tr>\n",
              "  </tbody>\n",
              "</table>\n",
              "<p>2 rows × 30 columns</p>\n",
              "</div>\n",
              "    <div class=\"colab-df-buttons\">\n",
              "\n",
              "  <div class=\"colab-df-container\">\n",
              "    <button class=\"colab-df-convert\" onclick=\"convertToInteractive('df-0ecd8fa7-e573-489b-adae-9656a85c4dc7')\"\n",
              "            title=\"Convert this dataframe to an interactive table.\"\n",
              "            style=\"display:none;\">\n",
              "\n",
              "  <svg xmlns=\"http://www.w3.org/2000/svg\" height=\"24px\" viewBox=\"0 -960 960 960\">\n",
              "    <path d=\"M120-120v-720h720v720H120Zm60-500h600v-160H180v160Zm220 220h160v-160H400v160Zm0 220h160v-160H400v160ZM180-400h160v-160H180v160Zm440 0h160v-160H620v160ZM180-180h160v-160H180v160Zm440 0h160v-160H620v160Z\"/>\n",
              "  </svg>\n",
              "    </button>\n",
              "\n",
              "  <style>\n",
              "    .colab-df-container {\n",
              "      display:flex;\n",
              "      gap: 12px;\n",
              "    }\n",
              "\n",
              "    .colab-df-convert {\n",
              "      background-color: #E8F0FE;\n",
              "      border: none;\n",
              "      border-radius: 50%;\n",
              "      cursor: pointer;\n",
              "      display: none;\n",
              "      fill: #1967D2;\n",
              "      height: 32px;\n",
              "      padding: 0 0 0 0;\n",
              "      width: 32px;\n",
              "    }\n",
              "\n",
              "    .colab-df-convert:hover {\n",
              "      background-color: #E2EBFA;\n",
              "      box-shadow: 0px 1px 2px rgba(60, 64, 67, 0.3), 0px 1px 3px 1px rgba(60, 64, 67, 0.15);\n",
              "      fill: #174EA6;\n",
              "    }\n",
              "\n",
              "    .colab-df-buttons div {\n",
              "      margin-bottom: 4px;\n",
              "    }\n",
              "\n",
              "    [theme=dark] .colab-df-convert {\n",
              "      background-color: #3B4455;\n",
              "      fill: #D2E3FC;\n",
              "    }\n",
              "\n",
              "    [theme=dark] .colab-df-convert:hover {\n",
              "      background-color: #434B5C;\n",
              "      box-shadow: 0px 1px 3px 1px rgba(0, 0, 0, 0.15);\n",
              "      filter: drop-shadow(0px 1px 2px rgba(0, 0, 0, 0.3));\n",
              "      fill: #FFFFFF;\n",
              "    }\n",
              "  </style>\n",
              "\n",
              "    <script>\n",
              "      const buttonEl =\n",
              "        document.querySelector('#df-0ecd8fa7-e573-489b-adae-9656a85c4dc7 button.colab-df-convert');\n",
              "      buttonEl.style.display =\n",
              "        google.colab.kernel.accessAllowed ? 'block' : 'none';\n",
              "\n",
              "      async function convertToInteractive(key) {\n",
              "        const element = document.querySelector('#df-0ecd8fa7-e573-489b-adae-9656a85c4dc7');\n",
              "        const dataTable =\n",
              "          await google.colab.kernel.invokeFunction('convertToInteractive',\n",
              "                                                    [key], {});\n",
              "        if (!dataTable) return;\n",
              "\n",
              "        const docLinkHtml = 'Like what you see? Visit the ' +\n",
              "          '<a target=\"_blank\" href=https://colab.research.google.com/notebooks/data_table.ipynb>data table notebook</a>'\n",
              "          + ' to learn more about interactive tables.';\n",
              "        element.innerHTML = '';\n",
              "        dataTable['output_type'] = 'display_data';\n",
              "        await google.colab.output.renderOutput(dataTable, element);\n",
              "        const docLink = document.createElement('div');\n",
              "        docLink.innerHTML = docLinkHtml;\n",
              "        element.appendChild(docLink);\n",
              "      }\n",
              "    </script>\n",
              "  </div>\n",
              "\n",
              "\n",
              "<div id=\"df-ed0626dc-04af-492e-8a70-3bf75b7c54f3\">\n",
              "  <button class=\"colab-df-quickchart\" onclick=\"quickchart('df-ed0626dc-04af-492e-8a70-3bf75b7c54f3')\"\n",
              "            title=\"Suggest charts\"\n",
              "            style=\"display:none;\">\n",
              "\n",
              "<svg xmlns=\"http://www.w3.org/2000/svg\" height=\"24px\"viewBox=\"0 0 24 24\"\n",
              "     width=\"24px\">\n",
              "    <g>\n",
              "        <path d=\"M19 3H5c-1.1 0-2 .9-2 2v14c0 1.1.9 2 2 2h14c1.1 0 2-.9 2-2V5c0-1.1-.9-2-2-2zM9 17H7v-7h2v7zm4 0h-2V7h2v10zm4 0h-2v-4h2v4z\"/>\n",
              "    </g>\n",
              "</svg>\n",
              "  </button>\n",
              "\n",
              "<style>\n",
              "  .colab-df-quickchart {\n",
              "      --bg-color: #E8F0FE;\n",
              "      --fill-color: #1967D2;\n",
              "      --hover-bg-color: #E2EBFA;\n",
              "      --hover-fill-color: #174EA6;\n",
              "      --disabled-fill-color: #AAA;\n",
              "      --disabled-bg-color: #DDD;\n",
              "  }\n",
              "\n",
              "  [theme=dark] .colab-df-quickchart {\n",
              "      --bg-color: #3B4455;\n",
              "      --fill-color: #D2E3FC;\n",
              "      --hover-bg-color: #434B5C;\n",
              "      --hover-fill-color: #FFFFFF;\n",
              "      --disabled-bg-color: #3B4455;\n",
              "      --disabled-fill-color: #666;\n",
              "  }\n",
              "\n",
              "  .colab-df-quickchart {\n",
              "    background-color: var(--bg-color);\n",
              "    border: none;\n",
              "    border-radius: 50%;\n",
              "    cursor: pointer;\n",
              "    display: none;\n",
              "    fill: var(--fill-color);\n",
              "    height: 32px;\n",
              "    padding: 0;\n",
              "    width: 32px;\n",
              "  }\n",
              "\n",
              "  .colab-df-quickchart:hover {\n",
              "    background-color: var(--hover-bg-color);\n",
              "    box-shadow: 0 1px 2px rgba(60, 64, 67, 0.3), 0 1px 3px 1px rgba(60, 64, 67, 0.15);\n",
              "    fill: var(--button-hover-fill-color);\n",
              "  }\n",
              "\n",
              "  .colab-df-quickchart-complete:disabled,\n",
              "  .colab-df-quickchart-complete:disabled:hover {\n",
              "    background-color: var(--disabled-bg-color);\n",
              "    fill: var(--disabled-fill-color);\n",
              "    box-shadow: none;\n",
              "  }\n",
              "\n",
              "  .colab-df-spinner {\n",
              "    border: 2px solid var(--fill-color);\n",
              "    border-color: transparent;\n",
              "    border-bottom-color: var(--fill-color);\n",
              "    animation:\n",
              "      spin 1s steps(1) infinite;\n",
              "  }\n",
              "\n",
              "  @keyframes spin {\n",
              "    0% {\n",
              "      border-color: transparent;\n",
              "      border-bottom-color: var(--fill-color);\n",
              "      border-left-color: var(--fill-color);\n",
              "    }\n",
              "    20% {\n",
              "      border-color: transparent;\n",
              "      border-left-color: var(--fill-color);\n",
              "      border-top-color: var(--fill-color);\n",
              "    }\n",
              "    30% {\n",
              "      border-color: transparent;\n",
              "      border-left-color: var(--fill-color);\n",
              "      border-top-color: var(--fill-color);\n",
              "      border-right-color: var(--fill-color);\n",
              "    }\n",
              "    40% {\n",
              "      border-color: transparent;\n",
              "      border-right-color: var(--fill-color);\n",
              "      border-top-color: var(--fill-color);\n",
              "    }\n",
              "    60% {\n",
              "      border-color: transparent;\n",
              "      border-right-color: var(--fill-color);\n",
              "    }\n",
              "    80% {\n",
              "      border-color: transparent;\n",
              "      border-right-color: var(--fill-color);\n",
              "      border-bottom-color: var(--fill-color);\n",
              "    }\n",
              "    90% {\n",
              "      border-color: transparent;\n",
              "      border-bottom-color: var(--fill-color);\n",
              "    }\n",
              "  }\n",
              "</style>\n",
              "\n",
              "  <script>\n",
              "    async function quickchart(key) {\n",
              "      const quickchartButtonEl =\n",
              "        document.querySelector('#' + key + ' button');\n",
              "      quickchartButtonEl.disabled = true;  // To prevent multiple clicks.\n",
              "      quickchartButtonEl.classList.add('colab-df-spinner');\n",
              "      try {\n",
              "        const charts = await google.colab.kernel.invokeFunction(\n",
              "            'suggestCharts', [key], {});\n",
              "      } catch (error) {\n",
              "        console.error('Error during call to suggestCharts:', error);\n",
              "      }\n",
              "      quickchartButtonEl.classList.remove('colab-df-spinner');\n",
              "      quickchartButtonEl.classList.add('colab-df-quickchart-complete');\n",
              "    }\n",
              "    (() => {\n",
              "      let quickchartButtonEl =\n",
              "        document.querySelector('#df-ed0626dc-04af-492e-8a70-3bf75b7c54f3 button');\n",
              "      quickchartButtonEl.style.display =\n",
              "        google.colab.kernel.accessAllowed ? 'block' : 'none';\n",
              "    })();\n",
              "  </script>\n",
              "</div>\n",
              "\n",
              "    </div>\n",
              "  </div>\n"
            ],
            "application/vnd.google.colaboratory.intrinsic+json": {
              "type": "dataframe"
            }
          },
          "metadata": {},
          "execution_count": 92
        }
      ]
    },
    {
      "cell_type": "code",
      "source": [
        "legit_sample = legit.sample(n=492)"
      ],
      "metadata": {
        "id": "BVw1kIaRl1kR"
      },
      "execution_count": null,
      "outputs": []
    },
    {
      "cell_type": "code",
      "source": [
        "new_dataset = pd.concat([legit_sample, fraud], axis=0)"
      ],
      "metadata": {
        "id": "yhV5TT4Hl1fK"
      },
      "execution_count": null,
      "outputs": []
    },
    {
      "cell_type": "code",
      "source": [
        "new_dataset.tail()"
      ],
      "metadata": {
        "colab": {
          "base_uri": "https://localhost:8080/",
          "height": 255
        },
        "id": "o_SfadMLl8rj",
        "outputId": "050ee27d-0bfd-4f3b-c2b5-6f68261f1372"
      },
      "execution_count": null,
      "outputs": [
        {
          "output_type": "execute_result",
          "data": {
            "text/plain": [
              "        Time         V1         V2         V3        V4         V5        V6  \\\n",
              "17317  28625 -27.848181  15.598193 -28.923756  6.418442 -20.346228 -4.828202   \n",
              "17366  28658 -28.524268  15.876923 -29.468732  6.447591 -20.786000 -4.865613   \n",
              "17407  28692 -29.200329  16.155701 -30.013712  6.476731 -21.225810 -4.902997   \n",
              "17453  28726 -29.876366  16.434525 -30.558697  6.505862 -21.665654 -4.940356   \n",
              "17480  28755 -30.552380  16.713389 -31.103685  6.534984 -22.105532 -4.977692   \n",
              "\n",
              "              V7         V8        V9  ...       V21       V22       V23  \\\n",
              "17317 -19.210896  18.329406 -3.668735  ...  1.802149 -2.062934 -1.269843   \n",
              "17366 -19.501084  18.748872 -3.642990  ...  1.805770 -2.119376 -1.317450   \n",
              "17407 -19.791248  19.168327 -3.617242  ...  1.809371 -2.175815 -1.365104   \n",
              "17453 -20.081391  19.587773 -3.591491  ...  1.812954 -2.232252 -1.412803   \n",
              "17480 -20.371514  20.007208 -3.565738  ...  1.816520 -2.288686 -1.460544   \n",
              "\n",
              "            V24       V25       V26       V27       V28  Amount  Class  \n",
              "17317  0.165409  1.999499 -0.211059  1.324809  0.388090   99.99    1.0  \n",
              "17366  0.169846  2.051687 -0.210502  1.301734  0.380246   99.99    1.0  \n",
              "17407  0.174286  2.103868 -0.209944  1.278681  0.372393   99.99    1.0  \n",
              "17453  0.178731  2.156042 -0.209385  1.255649  0.364530   99.99    1.0  \n",
              "17480  0.183179  2.208209 -0.208824  1.232636  0.356660   99.99    1.0  \n",
              "\n",
              "[5 rows x 31 columns]"
            ],
            "text/html": [
              "\n",
              "  <div id=\"df-6539b2fb-42e2-4453-bb10-3ee1364bd1dd\" class=\"colab-df-container\">\n",
              "    <div>\n",
              "<style scoped>\n",
              "    .dataframe tbody tr th:only-of-type {\n",
              "        vertical-align: middle;\n",
              "    }\n",
              "\n",
              "    .dataframe tbody tr th {\n",
              "        vertical-align: top;\n",
              "    }\n",
              "\n",
              "    .dataframe thead th {\n",
              "        text-align: right;\n",
              "    }\n",
              "</style>\n",
              "<table border=\"1\" class=\"dataframe\">\n",
              "  <thead>\n",
              "    <tr style=\"text-align: right;\">\n",
              "      <th></th>\n",
              "      <th>Time</th>\n",
              "      <th>V1</th>\n",
              "      <th>V2</th>\n",
              "      <th>V3</th>\n",
              "      <th>V4</th>\n",
              "      <th>V5</th>\n",
              "      <th>V6</th>\n",
              "      <th>V7</th>\n",
              "      <th>V8</th>\n",
              "      <th>V9</th>\n",
              "      <th>...</th>\n",
              "      <th>V21</th>\n",
              "      <th>V22</th>\n",
              "      <th>V23</th>\n",
              "      <th>V24</th>\n",
              "      <th>V25</th>\n",
              "      <th>V26</th>\n",
              "      <th>V27</th>\n",
              "      <th>V28</th>\n",
              "      <th>Amount</th>\n",
              "      <th>Class</th>\n",
              "    </tr>\n",
              "  </thead>\n",
              "  <tbody>\n",
              "    <tr>\n",
              "      <th>17317</th>\n",
              "      <td>28625</td>\n",
              "      <td>-27.848181</td>\n",
              "      <td>15.598193</td>\n",
              "      <td>-28.923756</td>\n",
              "      <td>6.418442</td>\n",
              "      <td>-20.346228</td>\n",
              "      <td>-4.828202</td>\n",
              "      <td>-19.210896</td>\n",
              "      <td>18.329406</td>\n",
              "      <td>-3.668735</td>\n",
              "      <td>...</td>\n",
              "      <td>1.802149</td>\n",
              "      <td>-2.062934</td>\n",
              "      <td>-1.269843</td>\n",
              "      <td>0.165409</td>\n",
              "      <td>1.999499</td>\n",
              "      <td>-0.211059</td>\n",
              "      <td>1.324809</td>\n",
              "      <td>0.388090</td>\n",
              "      <td>99.99</td>\n",
              "      <td>1.0</td>\n",
              "    </tr>\n",
              "    <tr>\n",
              "      <th>17366</th>\n",
              "      <td>28658</td>\n",
              "      <td>-28.524268</td>\n",
              "      <td>15.876923</td>\n",
              "      <td>-29.468732</td>\n",
              "      <td>6.447591</td>\n",
              "      <td>-20.786000</td>\n",
              "      <td>-4.865613</td>\n",
              "      <td>-19.501084</td>\n",
              "      <td>18.748872</td>\n",
              "      <td>-3.642990</td>\n",
              "      <td>...</td>\n",
              "      <td>1.805770</td>\n",
              "      <td>-2.119376</td>\n",
              "      <td>-1.317450</td>\n",
              "      <td>0.169846</td>\n",
              "      <td>2.051687</td>\n",
              "      <td>-0.210502</td>\n",
              "      <td>1.301734</td>\n",
              "      <td>0.380246</td>\n",
              "      <td>99.99</td>\n",
              "      <td>1.0</td>\n",
              "    </tr>\n",
              "    <tr>\n",
              "      <th>17407</th>\n",
              "      <td>28692</td>\n",
              "      <td>-29.200329</td>\n",
              "      <td>16.155701</td>\n",
              "      <td>-30.013712</td>\n",
              "      <td>6.476731</td>\n",
              "      <td>-21.225810</td>\n",
              "      <td>-4.902997</td>\n",
              "      <td>-19.791248</td>\n",
              "      <td>19.168327</td>\n",
              "      <td>-3.617242</td>\n",
              "      <td>...</td>\n",
              "      <td>1.809371</td>\n",
              "      <td>-2.175815</td>\n",
              "      <td>-1.365104</td>\n",
              "      <td>0.174286</td>\n",
              "      <td>2.103868</td>\n",
              "      <td>-0.209944</td>\n",
              "      <td>1.278681</td>\n",
              "      <td>0.372393</td>\n",
              "      <td>99.99</td>\n",
              "      <td>1.0</td>\n",
              "    </tr>\n",
              "    <tr>\n",
              "      <th>17453</th>\n",
              "      <td>28726</td>\n",
              "      <td>-29.876366</td>\n",
              "      <td>16.434525</td>\n",
              "      <td>-30.558697</td>\n",
              "      <td>6.505862</td>\n",
              "      <td>-21.665654</td>\n",
              "      <td>-4.940356</td>\n",
              "      <td>-20.081391</td>\n",
              "      <td>19.587773</td>\n",
              "      <td>-3.591491</td>\n",
              "      <td>...</td>\n",
              "      <td>1.812954</td>\n",
              "      <td>-2.232252</td>\n",
              "      <td>-1.412803</td>\n",
              "      <td>0.178731</td>\n",
              "      <td>2.156042</td>\n",
              "      <td>-0.209385</td>\n",
              "      <td>1.255649</td>\n",
              "      <td>0.364530</td>\n",
              "      <td>99.99</td>\n",
              "      <td>1.0</td>\n",
              "    </tr>\n",
              "    <tr>\n",
              "      <th>17480</th>\n",
              "      <td>28755</td>\n",
              "      <td>-30.552380</td>\n",
              "      <td>16.713389</td>\n",
              "      <td>-31.103685</td>\n",
              "      <td>6.534984</td>\n",
              "      <td>-22.105532</td>\n",
              "      <td>-4.977692</td>\n",
              "      <td>-20.371514</td>\n",
              "      <td>20.007208</td>\n",
              "      <td>-3.565738</td>\n",
              "      <td>...</td>\n",
              "      <td>1.816520</td>\n",
              "      <td>-2.288686</td>\n",
              "      <td>-1.460544</td>\n",
              "      <td>0.183179</td>\n",
              "      <td>2.208209</td>\n",
              "      <td>-0.208824</td>\n",
              "      <td>1.232636</td>\n",
              "      <td>0.356660</td>\n",
              "      <td>99.99</td>\n",
              "      <td>1.0</td>\n",
              "    </tr>\n",
              "  </tbody>\n",
              "</table>\n",
              "<p>5 rows × 31 columns</p>\n",
              "</div>\n",
              "    <div class=\"colab-df-buttons\">\n",
              "\n",
              "  <div class=\"colab-df-container\">\n",
              "    <button class=\"colab-df-convert\" onclick=\"convertToInteractive('df-6539b2fb-42e2-4453-bb10-3ee1364bd1dd')\"\n",
              "            title=\"Convert this dataframe to an interactive table.\"\n",
              "            style=\"display:none;\">\n",
              "\n",
              "  <svg xmlns=\"http://www.w3.org/2000/svg\" height=\"24px\" viewBox=\"0 -960 960 960\">\n",
              "    <path d=\"M120-120v-720h720v720H120Zm60-500h600v-160H180v160Zm220 220h160v-160H400v160Zm0 220h160v-160H400v160ZM180-400h160v-160H180v160Zm440 0h160v-160H620v160ZM180-180h160v-160H180v160Zm440 0h160v-160H620v160Z\"/>\n",
              "  </svg>\n",
              "    </button>\n",
              "\n",
              "  <style>\n",
              "    .colab-df-container {\n",
              "      display:flex;\n",
              "      gap: 12px;\n",
              "    }\n",
              "\n",
              "    .colab-df-convert {\n",
              "      background-color: #E8F0FE;\n",
              "      border: none;\n",
              "      border-radius: 50%;\n",
              "      cursor: pointer;\n",
              "      display: none;\n",
              "      fill: #1967D2;\n",
              "      height: 32px;\n",
              "      padding: 0 0 0 0;\n",
              "      width: 32px;\n",
              "    }\n",
              "\n",
              "    .colab-df-convert:hover {\n",
              "      background-color: #E2EBFA;\n",
              "      box-shadow: 0px 1px 2px rgba(60, 64, 67, 0.3), 0px 1px 3px 1px rgba(60, 64, 67, 0.15);\n",
              "      fill: #174EA6;\n",
              "    }\n",
              "\n",
              "    .colab-df-buttons div {\n",
              "      margin-bottom: 4px;\n",
              "    }\n",
              "\n",
              "    [theme=dark] .colab-df-convert {\n",
              "      background-color: #3B4455;\n",
              "      fill: #D2E3FC;\n",
              "    }\n",
              "\n",
              "    [theme=dark] .colab-df-convert:hover {\n",
              "      background-color: #434B5C;\n",
              "      box-shadow: 0px 1px 3px 1px rgba(0, 0, 0, 0.15);\n",
              "      filter: drop-shadow(0px 1px 2px rgba(0, 0, 0, 0.3));\n",
              "      fill: #FFFFFF;\n",
              "    }\n",
              "  </style>\n",
              "\n",
              "    <script>\n",
              "      const buttonEl =\n",
              "        document.querySelector('#df-6539b2fb-42e2-4453-bb10-3ee1364bd1dd button.colab-df-convert');\n",
              "      buttonEl.style.display =\n",
              "        google.colab.kernel.accessAllowed ? 'block' : 'none';\n",
              "\n",
              "      async function convertToInteractive(key) {\n",
              "        const element = document.querySelector('#df-6539b2fb-42e2-4453-bb10-3ee1364bd1dd');\n",
              "        const dataTable =\n",
              "          await google.colab.kernel.invokeFunction('convertToInteractive',\n",
              "                                                    [key], {});\n",
              "        if (!dataTable) return;\n",
              "\n",
              "        const docLinkHtml = 'Like what you see? Visit the ' +\n",
              "          '<a target=\"_blank\" href=https://colab.research.google.com/notebooks/data_table.ipynb>data table notebook</a>'\n",
              "          + ' to learn more about interactive tables.';\n",
              "        element.innerHTML = '';\n",
              "        dataTable['output_type'] = 'display_data';\n",
              "        await google.colab.output.renderOutput(dataTable, element);\n",
              "        const docLink = document.createElement('div');\n",
              "        docLink.innerHTML = docLinkHtml;\n",
              "        element.appendChild(docLink);\n",
              "      }\n",
              "    </script>\n",
              "  </div>\n",
              "\n",
              "\n",
              "<div id=\"df-649ff560-abf2-40cf-9025-1df1d1b30a70\">\n",
              "  <button class=\"colab-df-quickchart\" onclick=\"quickchart('df-649ff560-abf2-40cf-9025-1df1d1b30a70')\"\n",
              "            title=\"Suggest charts\"\n",
              "            style=\"display:none;\">\n",
              "\n",
              "<svg xmlns=\"http://www.w3.org/2000/svg\" height=\"24px\"viewBox=\"0 0 24 24\"\n",
              "     width=\"24px\">\n",
              "    <g>\n",
              "        <path d=\"M19 3H5c-1.1 0-2 .9-2 2v14c0 1.1.9 2 2 2h14c1.1 0 2-.9 2-2V5c0-1.1-.9-2-2-2zM9 17H7v-7h2v7zm4 0h-2V7h2v10zm4 0h-2v-4h2v4z\"/>\n",
              "    </g>\n",
              "</svg>\n",
              "  </button>\n",
              "\n",
              "<style>\n",
              "  .colab-df-quickchart {\n",
              "      --bg-color: #E8F0FE;\n",
              "      --fill-color: #1967D2;\n",
              "      --hover-bg-color: #E2EBFA;\n",
              "      --hover-fill-color: #174EA6;\n",
              "      --disabled-fill-color: #AAA;\n",
              "      --disabled-bg-color: #DDD;\n",
              "  }\n",
              "\n",
              "  [theme=dark] .colab-df-quickchart {\n",
              "      --bg-color: #3B4455;\n",
              "      --fill-color: #D2E3FC;\n",
              "      --hover-bg-color: #434B5C;\n",
              "      --hover-fill-color: #FFFFFF;\n",
              "      --disabled-bg-color: #3B4455;\n",
              "      --disabled-fill-color: #666;\n",
              "  }\n",
              "\n",
              "  .colab-df-quickchart {\n",
              "    background-color: var(--bg-color);\n",
              "    border: none;\n",
              "    border-radius: 50%;\n",
              "    cursor: pointer;\n",
              "    display: none;\n",
              "    fill: var(--fill-color);\n",
              "    height: 32px;\n",
              "    padding: 0;\n",
              "    width: 32px;\n",
              "  }\n",
              "\n",
              "  .colab-df-quickchart:hover {\n",
              "    background-color: var(--hover-bg-color);\n",
              "    box-shadow: 0 1px 2px rgba(60, 64, 67, 0.3), 0 1px 3px 1px rgba(60, 64, 67, 0.15);\n",
              "    fill: var(--button-hover-fill-color);\n",
              "  }\n",
              "\n",
              "  .colab-df-quickchart-complete:disabled,\n",
              "  .colab-df-quickchart-complete:disabled:hover {\n",
              "    background-color: var(--disabled-bg-color);\n",
              "    fill: var(--disabled-fill-color);\n",
              "    box-shadow: none;\n",
              "  }\n",
              "\n",
              "  .colab-df-spinner {\n",
              "    border: 2px solid var(--fill-color);\n",
              "    border-color: transparent;\n",
              "    border-bottom-color: var(--fill-color);\n",
              "    animation:\n",
              "      spin 1s steps(1) infinite;\n",
              "  }\n",
              "\n",
              "  @keyframes spin {\n",
              "    0% {\n",
              "      border-color: transparent;\n",
              "      border-bottom-color: var(--fill-color);\n",
              "      border-left-color: var(--fill-color);\n",
              "    }\n",
              "    20% {\n",
              "      border-color: transparent;\n",
              "      border-left-color: var(--fill-color);\n",
              "      border-top-color: var(--fill-color);\n",
              "    }\n",
              "    30% {\n",
              "      border-color: transparent;\n",
              "      border-left-color: var(--fill-color);\n",
              "      border-top-color: var(--fill-color);\n",
              "      border-right-color: var(--fill-color);\n",
              "    }\n",
              "    40% {\n",
              "      border-color: transparent;\n",
              "      border-right-color: var(--fill-color);\n",
              "      border-top-color: var(--fill-color);\n",
              "    }\n",
              "    60% {\n",
              "      border-color: transparent;\n",
              "      border-right-color: var(--fill-color);\n",
              "    }\n",
              "    80% {\n",
              "      border-color: transparent;\n",
              "      border-right-color: var(--fill-color);\n",
              "      border-bottom-color: var(--fill-color);\n",
              "    }\n",
              "    90% {\n",
              "      border-color: transparent;\n",
              "      border-bottom-color: var(--fill-color);\n",
              "    }\n",
              "  }\n",
              "</style>\n",
              "\n",
              "  <script>\n",
              "    async function quickchart(key) {\n",
              "      const quickchartButtonEl =\n",
              "        document.querySelector('#' + key + ' button');\n",
              "      quickchartButtonEl.disabled = true;  // To prevent multiple clicks.\n",
              "      quickchartButtonEl.classList.add('colab-df-spinner');\n",
              "      try {\n",
              "        const charts = await google.colab.kernel.invokeFunction(\n",
              "            'suggestCharts', [key], {});\n",
              "      } catch (error) {\n",
              "        console.error('Error during call to suggestCharts:', error);\n",
              "      }\n",
              "      quickchartButtonEl.classList.remove('colab-df-spinner');\n",
              "      quickchartButtonEl.classList.add('colab-df-quickchart-complete');\n",
              "    }\n",
              "    (() => {\n",
              "      let quickchartButtonEl =\n",
              "        document.querySelector('#df-649ff560-abf2-40cf-9025-1df1d1b30a70 button');\n",
              "      quickchartButtonEl.style.display =\n",
              "        google.colab.kernel.accessAllowed ? 'block' : 'none';\n",
              "    })();\n",
              "  </script>\n",
              "</div>\n",
              "\n",
              "    </div>\n",
              "  </div>\n"
            ],
            "application/vnd.google.colaboratory.intrinsic+json": {
              "type": "dataframe"
            }
          },
          "metadata": {},
          "execution_count": 96
        }
      ]
    },
    {
      "cell_type": "code",
      "source": [
        "new_dataset['Class'].value_counts()"
      ],
      "metadata": {
        "colab": {
          "base_uri": "https://localhost:8080/"
        },
        "id": "AZDCPVd4l8mM",
        "outputId": "984f55f6-685d-41d9-ebe3-993bdda642df"
      },
      "execution_count": null,
      "outputs": [
        {
          "output_type": "execute_result",
          "data": {
            "text/plain": [
              "0.0    492\n",
              "1.0     81\n",
              "Name: Class, dtype: int64"
            ]
          },
          "metadata": {},
          "execution_count": 95
        }
      ]
    },
    {
      "cell_type": "code",
      "source": [
        "new_dataset.groupby('Class').mean()"
      ],
      "metadata": {
        "colab": {
          "base_uri": "https://localhost:8080/",
          "height": 193
        },
        "id": "Mws_4m62mDmp",
        "outputId": "e7591122-b6e3-472f-c071-6d85a0b4b57c"
      },
      "execution_count": null,
      "outputs": [
        {
          "output_type": "execute_result",
          "data": {
            "text/plain": [
              "               Time        V1        V2         V3        V4        V5  \\\n",
              "Class                                                                    \n",
              "0.0    13805.469512 -0.143020  0.262802   0.780726  0.189852 -0.189473   \n",
              "1.0    16833.074074 -9.315066  6.779465 -13.052870  6.451318 -6.557541   \n",
              "\n",
              "             V6        V7        V8        V9  ...       V20       V21  \\\n",
              "Class                                          ...                       \n",
              "0.0    0.066024 -0.136813 -0.020494  0.805617  ... -0.018418 -0.053271   \n",
              "1.0   -2.602613 -9.012856  4.730365 -3.087651  ...  0.756424  0.549752   \n",
              "\n",
              "            V22       V23       V24       V25       V26       V27       V28  \\\n",
              "Class                                                                         \n",
              "0.0   -0.163091 -0.044934  0.023763  0.123647  0.037070  0.000079 -0.004134   \n",
              "1.0   -0.423495 -0.398104 -0.277836  0.355688  0.177616  0.940693  0.090007   \n",
              "\n",
              "          Amount  \n",
              "Class             \n",
              "0.0    60.625976  \n",
              "1.0    98.105926  \n",
              "\n",
              "[2 rows x 30 columns]"
            ],
            "text/html": [
              "\n",
              "  <div id=\"df-99e1eeb2-4945-46b9-aee0-ae98060f0426\" class=\"colab-df-container\">\n",
              "    <div>\n",
              "<style scoped>\n",
              "    .dataframe tbody tr th:only-of-type {\n",
              "        vertical-align: middle;\n",
              "    }\n",
              "\n",
              "    .dataframe tbody tr th {\n",
              "        vertical-align: top;\n",
              "    }\n",
              "\n",
              "    .dataframe thead th {\n",
              "        text-align: right;\n",
              "    }\n",
              "</style>\n",
              "<table border=\"1\" class=\"dataframe\">\n",
              "  <thead>\n",
              "    <tr style=\"text-align: right;\">\n",
              "      <th></th>\n",
              "      <th>Time</th>\n",
              "      <th>V1</th>\n",
              "      <th>V2</th>\n",
              "      <th>V3</th>\n",
              "      <th>V4</th>\n",
              "      <th>V5</th>\n",
              "      <th>V6</th>\n",
              "      <th>V7</th>\n",
              "      <th>V8</th>\n",
              "      <th>V9</th>\n",
              "      <th>...</th>\n",
              "      <th>V20</th>\n",
              "      <th>V21</th>\n",
              "      <th>V22</th>\n",
              "      <th>V23</th>\n",
              "      <th>V24</th>\n",
              "      <th>V25</th>\n",
              "      <th>V26</th>\n",
              "      <th>V27</th>\n",
              "      <th>V28</th>\n",
              "      <th>Amount</th>\n",
              "    </tr>\n",
              "    <tr>\n",
              "      <th>Class</th>\n",
              "      <th></th>\n",
              "      <th></th>\n",
              "      <th></th>\n",
              "      <th></th>\n",
              "      <th></th>\n",
              "      <th></th>\n",
              "      <th></th>\n",
              "      <th></th>\n",
              "      <th></th>\n",
              "      <th></th>\n",
              "      <th></th>\n",
              "      <th></th>\n",
              "      <th></th>\n",
              "      <th></th>\n",
              "      <th></th>\n",
              "      <th></th>\n",
              "      <th></th>\n",
              "      <th></th>\n",
              "      <th></th>\n",
              "      <th></th>\n",
              "      <th></th>\n",
              "    </tr>\n",
              "  </thead>\n",
              "  <tbody>\n",
              "    <tr>\n",
              "      <th>0.0</th>\n",
              "      <td>13805.469512</td>\n",
              "      <td>-0.143020</td>\n",
              "      <td>0.262802</td>\n",
              "      <td>0.780726</td>\n",
              "      <td>0.189852</td>\n",
              "      <td>-0.189473</td>\n",
              "      <td>0.066024</td>\n",
              "      <td>-0.136813</td>\n",
              "      <td>-0.020494</td>\n",
              "      <td>0.805617</td>\n",
              "      <td>...</td>\n",
              "      <td>-0.018418</td>\n",
              "      <td>-0.053271</td>\n",
              "      <td>-0.163091</td>\n",
              "      <td>-0.044934</td>\n",
              "      <td>0.023763</td>\n",
              "      <td>0.123647</td>\n",
              "      <td>0.037070</td>\n",
              "      <td>0.000079</td>\n",
              "      <td>-0.004134</td>\n",
              "      <td>60.625976</td>\n",
              "    </tr>\n",
              "    <tr>\n",
              "      <th>1.0</th>\n",
              "      <td>16833.074074</td>\n",
              "      <td>-9.315066</td>\n",
              "      <td>6.779465</td>\n",
              "      <td>-13.052870</td>\n",
              "      <td>6.451318</td>\n",
              "      <td>-6.557541</td>\n",
              "      <td>-2.602613</td>\n",
              "      <td>-9.012856</td>\n",
              "      <td>4.730365</td>\n",
              "      <td>-3.087651</td>\n",
              "      <td>...</td>\n",
              "      <td>0.756424</td>\n",
              "      <td>0.549752</td>\n",
              "      <td>-0.423495</td>\n",
              "      <td>-0.398104</td>\n",
              "      <td>-0.277836</td>\n",
              "      <td>0.355688</td>\n",
              "      <td>0.177616</td>\n",
              "      <td>0.940693</td>\n",
              "      <td>0.090007</td>\n",
              "      <td>98.105926</td>\n",
              "    </tr>\n",
              "  </tbody>\n",
              "</table>\n",
              "<p>2 rows × 30 columns</p>\n",
              "</div>\n",
              "    <div class=\"colab-df-buttons\">\n",
              "\n",
              "  <div class=\"colab-df-container\">\n",
              "    <button class=\"colab-df-convert\" onclick=\"convertToInteractive('df-99e1eeb2-4945-46b9-aee0-ae98060f0426')\"\n",
              "            title=\"Convert this dataframe to an interactive table.\"\n",
              "            style=\"display:none;\">\n",
              "\n",
              "  <svg xmlns=\"http://www.w3.org/2000/svg\" height=\"24px\" viewBox=\"0 -960 960 960\">\n",
              "    <path d=\"M120-120v-720h720v720H120Zm60-500h600v-160H180v160Zm220 220h160v-160H400v160Zm0 220h160v-160H400v160ZM180-400h160v-160H180v160Zm440 0h160v-160H620v160ZM180-180h160v-160H180v160Zm440 0h160v-160H620v160Z\"/>\n",
              "  </svg>\n",
              "    </button>\n",
              "\n",
              "  <style>\n",
              "    .colab-df-container {\n",
              "      display:flex;\n",
              "      gap: 12px;\n",
              "    }\n",
              "\n",
              "    .colab-df-convert {\n",
              "      background-color: #E8F0FE;\n",
              "      border: none;\n",
              "      border-radius: 50%;\n",
              "      cursor: pointer;\n",
              "      display: none;\n",
              "      fill: #1967D2;\n",
              "      height: 32px;\n",
              "      padding: 0 0 0 0;\n",
              "      width: 32px;\n",
              "    }\n",
              "\n",
              "    .colab-df-convert:hover {\n",
              "      background-color: #E2EBFA;\n",
              "      box-shadow: 0px 1px 2px rgba(60, 64, 67, 0.3), 0px 1px 3px 1px rgba(60, 64, 67, 0.15);\n",
              "      fill: #174EA6;\n",
              "    }\n",
              "\n",
              "    .colab-df-buttons div {\n",
              "      margin-bottom: 4px;\n",
              "    }\n",
              "\n",
              "    [theme=dark] .colab-df-convert {\n",
              "      background-color: #3B4455;\n",
              "      fill: #D2E3FC;\n",
              "    }\n",
              "\n",
              "    [theme=dark] .colab-df-convert:hover {\n",
              "      background-color: #434B5C;\n",
              "      box-shadow: 0px 1px 3px 1px rgba(0, 0, 0, 0.15);\n",
              "      filter: drop-shadow(0px 1px 2px rgba(0, 0, 0, 0.3));\n",
              "      fill: #FFFFFF;\n",
              "    }\n",
              "  </style>\n",
              "\n",
              "    <script>\n",
              "      const buttonEl =\n",
              "        document.querySelector('#df-99e1eeb2-4945-46b9-aee0-ae98060f0426 button.colab-df-convert');\n",
              "      buttonEl.style.display =\n",
              "        google.colab.kernel.accessAllowed ? 'block' : 'none';\n",
              "\n",
              "      async function convertToInteractive(key) {\n",
              "        const element = document.querySelector('#df-99e1eeb2-4945-46b9-aee0-ae98060f0426');\n",
              "        const dataTable =\n",
              "          await google.colab.kernel.invokeFunction('convertToInteractive',\n",
              "                                                    [key], {});\n",
              "        if (!dataTable) return;\n",
              "\n",
              "        const docLinkHtml = 'Like what you see? Visit the ' +\n",
              "          '<a target=\"_blank\" href=https://colab.research.google.com/notebooks/data_table.ipynb>data table notebook</a>'\n",
              "          + ' to learn more about interactive tables.';\n",
              "        element.innerHTML = '';\n",
              "        dataTable['output_type'] = 'display_data';\n",
              "        await google.colab.output.renderOutput(dataTable, element);\n",
              "        const docLink = document.createElement('div');\n",
              "        docLink.innerHTML = docLinkHtml;\n",
              "        element.appendChild(docLink);\n",
              "      }\n",
              "    </script>\n",
              "  </div>\n",
              "\n",
              "\n",
              "<div id=\"df-b0da59e4-6820-40cc-b891-4dcf7c17ea37\">\n",
              "  <button class=\"colab-df-quickchart\" onclick=\"quickchart('df-b0da59e4-6820-40cc-b891-4dcf7c17ea37')\"\n",
              "            title=\"Suggest charts\"\n",
              "            style=\"display:none;\">\n",
              "\n",
              "<svg xmlns=\"http://www.w3.org/2000/svg\" height=\"24px\"viewBox=\"0 0 24 24\"\n",
              "     width=\"24px\">\n",
              "    <g>\n",
              "        <path d=\"M19 3H5c-1.1 0-2 .9-2 2v14c0 1.1.9 2 2 2h14c1.1 0 2-.9 2-2V5c0-1.1-.9-2-2-2zM9 17H7v-7h2v7zm4 0h-2V7h2v10zm4 0h-2v-4h2v4z\"/>\n",
              "    </g>\n",
              "</svg>\n",
              "  </button>\n",
              "\n",
              "<style>\n",
              "  .colab-df-quickchart {\n",
              "      --bg-color: #E8F0FE;\n",
              "      --fill-color: #1967D2;\n",
              "      --hover-bg-color: #E2EBFA;\n",
              "      --hover-fill-color: #174EA6;\n",
              "      --disabled-fill-color: #AAA;\n",
              "      --disabled-bg-color: #DDD;\n",
              "  }\n",
              "\n",
              "  [theme=dark] .colab-df-quickchart {\n",
              "      --bg-color: #3B4455;\n",
              "      --fill-color: #D2E3FC;\n",
              "      --hover-bg-color: #434B5C;\n",
              "      --hover-fill-color: #FFFFFF;\n",
              "      --disabled-bg-color: #3B4455;\n",
              "      --disabled-fill-color: #666;\n",
              "  }\n",
              "\n",
              "  .colab-df-quickchart {\n",
              "    background-color: var(--bg-color);\n",
              "    border: none;\n",
              "    border-radius: 50%;\n",
              "    cursor: pointer;\n",
              "    display: none;\n",
              "    fill: var(--fill-color);\n",
              "    height: 32px;\n",
              "    padding: 0;\n",
              "    width: 32px;\n",
              "  }\n",
              "\n",
              "  .colab-df-quickchart:hover {\n",
              "    background-color: var(--hover-bg-color);\n",
              "    box-shadow: 0 1px 2px rgba(60, 64, 67, 0.3), 0 1px 3px 1px rgba(60, 64, 67, 0.15);\n",
              "    fill: var(--button-hover-fill-color);\n",
              "  }\n",
              "\n",
              "  .colab-df-quickchart-complete:disabled,\n",
              "  .colab-df-quickchart-complete:disabled:hover {\n",
              "    background-color: var(--disabled-bg-color);\n",
              "    fill: var(--disabled-fill-color);\n",
              "    box-shadow: none;\n",
              "  }\n",
              "\n",
              "  .colab-df-spinner {\n",
              "    border: 2px solid var(--fill-color);\n",
              "    border-color: transparent;\n",
              "    border-bottom-color: var(--fill-color);\n",
              "    animation:\n",
              "      spin 1s steps(1) infinite;\n",
              "  }\n",
              "\n",
              "  @keyframes spin {\n",
              "    0% {\n",
              "      border-color: transparent;\n",
              "      border-bottom-color: var(--fill-color);\n",
              "      border-left-color: var(--fill-color);\n",
              "    }\n",
              "    20% {\n",
              "      border-color: transparent;\n",
              "      border-left-color: var(--fill-color);\n",
              "      border-top-color: var(--fill-color);\n",
              "    }\n",
              "    30% {\n",
              "      border-color: transparent;\n",
              "      border-left-color: var(--fill-color);\n",
              "      border-top-color: var(--fill-color);\n",
              "      border-right-color: var(--fill-color);\n",
              "    }\n",
              "    40% {\n",
              "      border-color: transparent;\n",
              "      border-right-color: var(--fill-color);\n",
              "      border-top-color: var(--fill-color);\n",
              "    }\n",
              "    60% {\n",
              "      border-color: transparent;\n",
              "      border-right-color: var(--fill-color);\n",
              "    }\n",
              "    80% {\n",
              "      border-color: transparent;\n",
              "      border-right-color: var(--fill-color);\n",
              "      border-bottom-color: var(--fill-color);\n",
              "    }\n",
              "    90% {\n",
              "      border-color: transparent;\n",
              "      border-bottom-color: var(--fill-color);\n",
              "    }\n",
              "  }\n",
              "</style>\n",
              "\n",
              "  <script>\n",
              "    async function quickchart(key) {\n",
              "      const quickchartButtonEl =\n",
              "        document.querySelector('#' + key + ' button');\n",
              "      quickchartButtonEl.disabled = true;  // To prevent multiple clicks.\n",
              "      quickchartButtonEl.classList.add('colab-df-spinner');\n",
              "      try {\n",
              "        const charts = await google.colab.kernel.invokeFunction(\n",
              "            'suggestCharts', [key], {});\n",
              "      } catch (error) {\n",
              "        console.error('Error during call to suggestCharts:', error);\n",
              "      }\n",
              "      quickchartButtonEl.classList.remove('colab-df-spinner');\n",
              "      quickchartButtonEl.classList.add('colab-df-quickchart-complete');\n",
              "    }\n",
              "    (() => {\n",
              "      let quickchartButtonEl =\n",
              "        document.querySelector('#df-b0da59e4-6820-40cc-b891-4dcf7c17ea37 button');\n",
              "      quickchartButtonEl.style.display =\n",
              "        google.colab.kernel.accessAllowed ? 'block' : 'none';\n",
              "    })();\n",
              "  </script>\n",
              "</div>\n",
              "\n",
              "    </div>\n",
              "  </div>\n"
            ],
            "application/vnd.google.colaboratory.intrinsic+json": {
              "type": "dataframe"
            }
          },
          "metadata": {},
          "execution_count": 97
        }
      ]
    },
    {
      "cell_type": "code",
      "source": [
        "X = new_dataset.drop(columns='Class', axis=1)\n",
        "Y = new_dataset['Class']"
      ],
      "metadata": {
        "id": "r4MUOa2qmDh1"
      },
      "execution_count": null,
      "outputs": []
    },
    {
      "cell_type": "code",
      "source": [
        "print(X)"
      ],
      "metadata": {
        "colab": {
          "base_uri": "https://localhost:8080/"
        },
        "id": "OY7ikG9mmLGt",
        "outputId": "8dec47d3-2f4e-45ab-9f3e-a6b5f89f5a0e"
      },
      "execution_count": null,
      "outputs": [
        {
          "output_type": "stream",
          "name": "stdout",
          "text": [
            "        Time         V1         V2         V3        V4         V5        V6  \\\n",
            "11432  19894  -0.612965   0.255362   1.895168 -0.562604  -0.718350 -0.411348   \n",
            "13310  23464   1.101191   0.576720   0.536419  3.071235   0.000761  0.153122   \n",
            "13285  23415  -0.289173   1.324253   0.843539  1.210945  -0.216125 -0.784702   \n",
            "15104  26458  -0.331976   0.917888   1.552326  0.215447   0.603356  0.269325   \n",
            "14486  25663  -0.528215   0.732912   1.420989  0.038580  -0.509332 -0.162091   \n",
            "...      ...        ...        ...        ...       ...        ...       ...   \n",
            "17317  28625 -27.848181  15.598193 -28.923756  6.418442 -20.346228 -4.828202   \n",
            "17366  28658 -28.524268  15.876923 -29.468732  6.447591 -20.786000 -4.865613   \n",
            "17407  28692 -29.200329  16.155701 -30.013712  6.476731 -21.225810 -4.902997   \n",
            "17453  28726 -29.876366  16.434525 -30.558697  6.505862 -21.665654 -4.940356   \n",
            "17480  28755 -30.552380  16.713389 -31.103685  6.534984 -22.105532 -4.977692   \n",
            "\n",
            "              V7         V8        V9  ...       V20       V21       V22  \\\n",
            "11432   0.271547  -0.491982  0.553165  ...  0.071809 -0.126423  0.048712   \n",
            "13310  -0.259640   0.121975  1.261832  ... -0.305859 -0.279368 -0.397468   \n",
            "13285   0.311361   0.168383  0.562082  ... -0.150186  0.031138  0.245241   \n",
            "15104   0.742300  -0.063181 -0.561265  ... -0.020068  0.027779  0.202785   \n",
            "14486   0.087576   0.110686 -0.187738  ...  0.247635 -0.024484 -0.069531   \n",
            "...          ...        ...       ...  ...       ...       ...       ...   \n",
            "17317 -19.210896  18.329406 -3.668735  ...  1.697856  1.802149 -2.062934   \n",
            "17366 -19.501084  18.748872 -3.642990  ...  1.706889  1.805770 -2.119376   \n",
            "17407 -19.791248  19.168327 -3.617242  ...  1.715862  1.809371 -2.175815   \n",
            "17453 -20.081391  19.587773 -3.591491  ...  1.724779  1.812954 -2.232252   \n",
            "17480 -20.371514  20.007208 -3.565738  ...  1.733644  1.816520 -2.288686   \n",
            "\n",
            "            V23       V24       V25       V26       V27       V28  Amount  \n",
            "11432 -0.173335  0.332681 -0.003968 -0.263313 -0.468933 -0.101331   50.00  \n",
            "13310 -0.042134 -0.115318  0.479781  0.074367  0.001801  0.032559    7.58  \n",
            "13285 -0.020659  0.337348 -0.148209 -0.367341 -0.073264 -0.023546   20.00  \n",
            "15104 -0.217043 -0.321902 -0.012480 -0.511645 -0.235700 -0.208643    2.95  \n",
            "14486  0.004279  0.025658 -0.710268  1.090965  0.049742  0.196574   21.35  \n",
            "...         ...       ...       ...       ...       ...       ...     ...  \n",
            "17317 -1.269843  0.165409  1.999499 -0.211059  1.324809  0.388090   99.99  \n",
            "17366 -1.317450  0.169846  2.051687 -0.210502  1.301734  0.380246   99.99  \n",
            "17407 -1.365104  0.174286  2.103868 -0.209944  1.278681  0.372393   99.99  \n",
            "17453 -1.412803  0.178731  2.156042 -0.209385  1.255649  0.364530   99.99  \n",
            "17480 -1.460544  0.183179  2.208209 -0.208824  1.232636  0.356660   99.99  \n",
            "\n",
            "[573 rows x 30 columns]\n"
          ]
        }
      ]
    },
    {
      "cell_type": "code",
      "source": [
        "print(Y)"
      ],
      "metadata": {
        "colab": {
          "base_uri": "https://localhost:8080/"
        },
        "id": "jN5OVNx3mLNL",
        "outputId": "94a94c9d-607a-4112-97b9-63d81c5b6abc"
      },
      "execution_count": null,
      "outputs": [
        {
          "output_type": "stream",
          "name": "stdout",
          "text": [
            "11432    0.0\n",
            "13310    0.0\n",
            "13285    0.0\n",
            "15104    0.0\n",
            "14486    0.0\n",
            "        ... \n",
            "17317    1.0\n",
            "17366    1.0\n",
            "17407    1.0\n",
            "17453    1.0\n",
            "17480    1.0\n",
            "Name: Class, Length: 573, dtype: float64\n"
          ]
        }
      ]
    },
    {
      "cell_type": "code",
      "source": [
        "X_train, X_test, Y_train, Y_test = train_test_split(X, Y, test_size=0.2, stratify=Y, random_state=2)"
      ],
      "metadata": {
        "id": "4J04-G5vmWCt"
      },
      "execution_count": null,
      "outputs": []
    },
    {
      "cell_type": "code",
      "source": [
        "print(X.shape, X_train.shape, X_test.shape)"
      ],
      "metadata": {
        "colab": {
          "base_uri": "https://localhost:8080/"
        },
        "id": "kZ9XbLd5mWIn",
        "outputId": "095b7cd3-33c0-4e5c-987c-0ab4c039de90"
      },
      "execution_count": null,
      "outputs": [
        {
          "output_type": "stream",
          "name": "stdout",
          "text": [
            "(573, 30) (458, 30) (115, 30)\n"
          ]
        }
      ]
    },
    {
      "cell_type": "code",
      "source": [
        "model = LogisticRegression()"
      ],
      "metadata": {
        "id": "UhQMubjLmWNa"
      },
      "execution_count": null,
      "outputs": []
    },
    {
      "cell_type": "code",
      "source": [
        "model.fit(X_train, Y_train)"
      ],
      "metadata": {
        "colab": {
          "base_uri": "https://localhost:8080/",
          "height": 223
        },
        "id": "dfib2oYVmnUk",
        "outputId": "c2fbe792-e2b6-4db4-aea1-20dc836a8bc3"
      },
      "execution_count": null,
      "outputs": [
        {
          "output_type": "stream",
          "name": "stderr",
          "text": [
            "/usr/local/lib/python3.10/dist-packages/sklearn/linear_model/_logistic.py:458: ConvergenceWarning: lbfgs failed to converge (status=1):\n",
            "STOP: TOTAL NO. of ITERATIONS REACHED LIMIT.\n",
            "\n",
            "Increase the number of iterations (max_iter) or scale the data as shown in:\n",
            "    https://scikit-learn.org/stable/modules/preprocessing.html\n",
            "Please also refer to the documentation for alternative solver options:\n",
            "    https://scikit-learn.org/stable/modules/linear_model.html#logistic-regression\n",
            "  n_iter_i = _check_optimize_result(\n"
          ]
        },
        {
          "output_type": "execute_result",
          "data": {
            "text/plain": [
              "LogisticRegression()"
            ],
            "text/html": [
              "<style>#sk-container-id-1 {color: black;background-color: white;}#sk-container-id-1 pre{padding: 0;}#sk-container-id-1 div.sk-toggleable {background-color: white;}#sk-container-id-1 label.sk-toggleable__label {cursor: pointer;display: block;width: 100%;margin-bottom: 0;padding: 0.3em;box-sizing: border-box;text-align: center;}#sk-container-id-1 label.sk-toggleable__label-arrow:before {content: \"▸\";float: left;margin-right: 0.25em;color: #696969;}#sk-container-id-1 label.sk-toggleable__label-arrow:hover:before {color: black;}#sk-container-id-1 div.sk-estimator:hover label.sk-toggleable__label-arrow:before {color: black;}#sk-container-id-1 div.sk-toggleable__content {max-height: 0;max-width: 0;overflow: hidden;text-align: left;background-color: #f0f8ff;}#sk-container-id-1 div.sk-toggleable__content pre {margin: 0.2em;color: black;border-radius: 0.25em;background-color: #f0f8ff;}#sk-container-id-1 input.sk-toggleable__control:checked~div.sk-toggleable__content {max-height: 200px;max-width: 100%;overflow: auto;}#sk-container-id-1 input.sk-toggleable__control:checked~label.sk-toggleable__label-arrow:before {content: \"▾\";}#sk-container-id-1 div.sk-estimator input.sk-toggleable__control:checked~label.sk-toggleable__label {background-color: #d4ebff;}#sk-container-id-1 div.sk-label input.sk-toggleable__control:checked~label.sk-toggleable__label {background-color: #d4ebff;}#sk-container-id-1 input.sk-hidden--visually {border: 0;clip: rect(1px 1px 1px 1px);clip: rect(1px, 1px, 1px, 1px);height: 1px;margin: -1px;overflow: hidden;padding: 0;position: absolute;width: 1px;}#sk-container-id-1 div.sk-estimator {font-family: monospace;background-color: #f0f8ff;border: 1px dotted black;border-radius: 0.25em;box-sizing: border-box;margin-bottom: 0.5em;}#sk-container-id-1 div.sk-estimator:hover {background-color: #d4ebff;}#sk-container-id-1 div.sk-parallel-item::after {content: \"\";width: 100%;border-bottom: 1px solid gray;flex-grow: 1;}#sk-container-id-1 div.sk-label:hover label.sk-toggleable__label {background-color: #d4ebff;}#sk-container-id-1 div.sk-serial::before {content: \"\";position: absolute;border-left: 1px solid gray;box-sizing: border-box;top: 0;bottom: 0;left: 50%;z-index: 0;}#sk-container-id-1 div.sk-serial {display: flex;flex-direction: column;align-items: center;background-color: white;padding-right: 0.2em;padding-left: 0.2em;position: relative;}#sk-container-id-1 div.sk-item {position: relative;z-index: 1;}#sk-container-id-1 div.sk-parallel {display: flex;align-items: stretch;justify-content: center;background-color: white;position: relative;}#sk-container-id-1 div.sk-item::before, #sk-container-id-1 div.sk-parallel-item::before {content: \"\";position: absolute;border-left: 1px solid gray;box-sizing: border-box;top: 0;bottom: 0;left: 50%;z-index: -1;}#sk-container-id-1 div.sk-parallel-item {display: flex;flex-direction: column;z-index: 1;position: relative;background-color: white;}#sk-container-id-1 div.sk-parallel-item:first-child::after {align-self: flex-end;width: 50%;}#sk-container-id-1 div.sk-parallel-item:last-child::after {align-self: flex-start;width: 50%;}#sk-container-id-1 div.sk-parallel-item:only-child::after {width: 0;}#sk-container-id-1 div.sk-dashed-wrapped {border: 1px dashed gray;margin: 0 0.4em 0.5em 0.4em;box-sizing: border-box;padding-bottom: 0.4em;background-color: white;}#sk-container-id-1 div.sk-label label {font-family: monospace;font-weight: bold;display: inline-block;line-height: 1.2em;}#sk-container-id-1 div.sk-label-container {text-align: center;}#sk-container-id-1 div.sk-container {/* jupyter's `normalize.less` sets `[hidden] { display: none; }` but bootstrap.min.css set `[hidden] { display: none !important; }` so we also need the `!important` here to be able to override the default hidden behavior on the sphinx rendered scikit-learn.org. See: https://github.com/scikit-learn/scikit-learn/issues/21755 */display: inline-block !important;position: relative;}#sk-container-id-1 div.sk-text-repr-fallback {display: none;}</style><div id=\"sk-container-id-1\" class=\"sk-top-container\"><div class=\"sk-text-repr-fallback\"><pre>LogisticRegression()</pre><b>In a Jupyter environment, please rerun this cell to show the HTML representation or trust the notebook. <br />On GitHub, the HTML representation is unable to render, please try loading this page with nbviewer.org.</b></div><div class=\"sk-container\" hidden><div class=\"sk-item\"><div class=\"sk-estimator sk-toggleable\"><input class=\"sk-toggleable__control sk-hidden--visually\" id=\"sk-estimator-id-1\" type=\"checkbox\" checked><label for=\"sk-estimator-id-1\" class=\"sk-toggleable__label sk-toggleable__label-arrow\">LogisticRegression</label><div class=\"sk-toggleable__content\"><pre>LogisticRegression()</pre></div></div></div></div></div>"
            ]
          },
          "metadata": {},
          "execution_count": 104
        }
      ]
    },
    {
      "cell_type": "markdown",
      "source": [
        "Model evaluation: Accuracy score\n"
      ],
      "metadata": {
        "id": "YFnMDE4Tm4XB"
      }
    },
    {
      "cell_type": "code",
      "source": [
        "!pip install sklearn\n",
        "from sklearn.metrics import accuracy_score"
      ],
      "metadata": {
        "colab": {
          "base_uri": "https://localhost:8080/"
        },
        "id": "JjG-RtkrnPws",
        "outputId": "53933493-4074-41d6-ad93-e9232da03969"
      },
      "execution_count": null,
      "outputs": [
        {
          "output_type": "stream",
          "name": "stdout",
          "text": [
            "Collecting sklearn\n",
            "  Downloading sklearn-0.0.post12.tar.gz (2.6 kB)\n",
            "  \u001b[1;31merror\u001b[0m: \u001b[1msubprocess-exited-with-error\u001b[0m\n",
            "  \n",
            "  \u001b[31m×\u001b[0m \u001b[32mpython setup.py egg_info\u001b[0m did not run successfully.\n",
            "  \u001b[31m│\u001b[0m exit code: \u001b[1;36m1\u001b[0m\n",
            "  \u001b[31m╰─>\u001b[0m See above for output.\n",
            "  \n",
            "  \u001b[1;35mnote\u001b[0m: This error originates from a subprocess, and is likely not a problem with pip.\n",
            "  Preparing metadata (setup.py) ... \u001b[?25l\u001b[?25herror\n",
            "\u001b[1;31merror\u001b[0m: \u001b[1mmetadata-generation-failed\u001b[0m\n",
            "\n",
            "\u001b[31m×\u001b[0m Encountered error while generating package metadata.\n",
            "\u001b[31m╰─>\u001b[0m See above for output.\n",
            "\n",
            "\u001b[1;35mnote\u001b[0m: This is an issue with the package mentioned above, not pip.\n",
            "\u001b[1;36mhint\u001b[0m: See above for details.\n"
          ]
        }
      ]
    },
    {
      "cell_type": "code",
      "source": [
        "training_data_accuracy = accuracy_score(X_train_prediction, Y_train)"
      ],
      "metadata": {
        "id": "8oWc_tlenPsC"
      },
      "execution_count": null,
      "outputs": []
    },
    {
      "cell_type": "code",
      "source": [
        "# accuracy on training data\n",
        "X_train_prediction = model.predict(X_train)\n",
        "training_data_accuracy = accuracy_score(X_train_prediction, Y_train)"
      ],
      "metadata": {
        "id": "LlrLySlnmwm2"
      },
      "execution_count": null,
      "outputs": []
    },
    {
      "cell_type": "code",
      "source": [
        "print('Accuracy on Training data : ', training_data_accuracy)"
      ],
      "metadata": {
        "colab": {
          "base_uri": "https://localhost:8080/"
        },
        "id": "G8CVOX3knDHm",
        "outputId": "59f8e307-34a9-4795-d772-e340587b9e05"
      },
      "execution_count": null,
      "outputs": [
        {
          "output_type": "stream",
          "name": "stdout",
          "text": [
            "Accuracy on Training data :  0.9956331877729258\n"
          ]
        }
      ]
    },
    {
      "cell_type": "code",
      "source": [
        "# accuracy on test data\n",
        "X_test_prediction = model.predict(X_test)\n",
        "test_data_accuracy = accuracy_score(X_test_prediction, Y_test)"
      ],
      "metadata": {
        "id": "1Y8hG28LnDQk"
      },
      "execution_count": null,
      "outputs": []
    },
    {
      "cell_type": "code",
      "source": [
        "print('Accuracy score on Test Data : ', test_data_accuracy)"
      ],
      "metadata": {
        "id": "jc11MvTInhzG",
        "outputId": "41b9b324-c922-49c9-e0dd-33ac8f13e930",
        "colab": {
          "base_uri": "https://localhost:8080/"
        }
      },
      "execution_count": null,
      "outputs": [
        {
          "output_type": "stream",
          "name": "stdout",
          "text": [
            "Accuracy score on Test Data :  0.9652173913043478\n"
          ]
        }
      ]
    }
  ]
}